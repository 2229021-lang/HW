{
  "cells": [
    {
      "cell_type": "markdown",
      "source": [
        "(2229021이선우과제풀이영상)[https://youtu.be/hdOyGnORZpU]"
      ],
      "metadata": {
        "id": "tHJS59dUA9sB"
      },
      "id": "tHJS59dUA9sB"
    },
    {
      "cell_type": "markdown",
      "metadata": {
        "id": "3oSL_cLemi3d"
      },
      "source": [
        "# 1. Multinomial regression with Python\n"
      ],
      "id": "3oSL_cLemi3d"
    },
    {
      "cell_type": "markdown",
      "metadata": {
        "id": "_9RudE_-zi19"
      },
      "source": [
        "## 1.1 Revisit logistic regression"
      ],
      "id": "_9RudE_-zi19"
    },
    {
      "cell_type": "markdown",
      "metadata": {
        "id": "wr7trLZn5GhR"
      },
      "source": [
        "## Example 1.1.1: (Heart attack patients)\n"
      ],
      "id": "wr7trLZn5GhR"
    },
    {
      "cell_type": "markdown",
      "metadata": {
        "id": "6JhXDF387kPr"
      },
      "source": [
        "Suppose that we are working with some doctors on heart attack patients. The dependent variable is whether the patient has had a second heart attack ($Y$)within 1 year (yes = 1). We have two independent variables, one is whether the patient completed a treatment consistent of anger control practices ($x_1$) (yes=1). The other is a score on a trait anxiety scale ($x_2$) (a higher score means more anxious). You want to model\n",
        "\n",
        "$Y\\sim {\\rm Ber}(p_i)$\n",
        "\n",
        "where $p_i=\\sigma(x_iW+b)$ with $W=\n",
        "\\left(\\begin{matrix}\n",
        "W_1\\\\\n",
        "W_2\n",
        "\\end{matrix}\\right).\n",
        "$\n",
        "\n",
        "Answer the following problems:\n",
        "\n",
        "1. Transform `Y` into `T` with one-hot encoding.\n",
        "\n",
        "2. Build the model which best describe the heart attack mechanism. You may want to standardize the explanatory variables before define the model.\n",
        "\n",
        "3. In the model, make the probability function `Q`, then train the logistic model.\n",
        "\n",
        "4. Calculate the train accuracy of the model.\n",
        "\n",
        "<img src=\"https://drive.google.com/uc?id=1BJMmWmeDUJFXis6nc7X7Sd6o832B1_OC\" height=\"600\" width=\"400\">"
      ],
      "id": "6JhXDF387kPr"
    },
    {
      "cell_type": "code",
      "execution_count": null,
      "metadata": {
        "colab": {
          "base_uri": "https://localhost:8080/"
        },
        "id": "f97WRkvDwFfp",
        "outputId": "c3c6f9d1-4283-4df7-9f52-ad9eae567a17"
      },
      "outputs": [
        {
          "output_type": "execute_result",
          "data": {
            "text/plain": [
              "array([[ 1.,  1., 70.],\n",
              "       [ 1.,  1., 80.],\n",
              "       [ 1.,  1., 50.],\n",
              "       [ 1.,  0., 60.],\n",
              "       [ 1.,  0., 40.],\n",
              "       [ 1.,  0., 65.],\n",
              "       [ 1.,  0., 75.],\n",
              "       [ 1.,  0., 80.],\n",
              "       [ 1.,  0., 70.],\n",
              "       [ 1.,  0., 60.],\n",
              "       [ 0.,  1., 65.],\n",
              "       [ 0.,  1., 50.],\n",
              "       [ 0.,  1., 45.],\n",
              "       [ 0.,  1., 35.],\n",
              "       [ 0.,  1., 40.],\n",
              "       [ 0.,  1., 50.],\n",
              "       [ 0.,  0., 55.],\n",
              "       [ 0.,  0., 45.],\n",
              "       [ 0.,  0., 50.],\n",
              "       [ 0.,  0., 60.]], dtype=float32)"
            ]
          },
          "metadata": {},
          "execution_count": 1
        }
      ],
      "source": [
        "import numpy as np\n",
        "import torch\n",
        "import matplotlib.pyplot as plt\n",
        "from torch.utils.data import Dataset, DataLoader, TensorDataset\n",
        "data = np.array([[1,1,70], [1,1,80], [1,1,50],[1,0,60], [1,0,40], [1, 0, 65], [1,0,75], [1,0,80], [1,0,70], [1,0,60], [0,1,65], [0,1,50], [0,1,45], [0,1,35], [0,1,40], [0,1,50], [0,0,55], [0,0,45], [0,0,50], [0,0,60]], dtype=np.float32)\n",
        "data"
      ],
      "id": "f97WRkvDwFfp"
    },
    {
      "cell_type": "markdown",
      "metadata": {
        "id": "EGfgBS230U6F"
      },
      "source": [
        "#### Transformation of `Y` of shape `[n,1]` into one-hot encoding `T` of shape `[n,2]`."
      ],
      "id": "EGfgBS230U6F"
    },
    {
      "cell_type": "code",
      "source": [
        "Y = torch.tensor(data[:, 0], dtype=torch.int64)\n",
        "Y"
      ],
      "metadata": {
        "colab": {
          "base_uri": "https://localhost:8080/"
        },
        "id": "xeqU__a6wNjV",
        "outputId": "9a0848c6-20f2-4e8f-b5c0-8b6fb755f928"
      },
      "id": "xeqU__a6wNjV",
      "execution_count": null,
      "outputs": [
        {
          "output_type": "execute_result",
          "data": {
            "text/plain": [
              "tensor([1, 1, 1, 1, 1, 1, 1, 1, 1, 1, 0, 0, 0, 0, 0, 0, 0, 0, 0, 0])"
            ]
          },
          "metadata": {},
          "execution_count": 2
        }
      ]
    },
    {
      "cell_type": "code",
      "execution_count": null,
      "metadata": {
        "id": "tO-lkjHZ0SqR",
        "colab": {
          "base_uri": "https://localhost:8080/"
        },
        "outputId": "c62ebcb8-7159-403f-c5a3-0c6379f07390"
      },
      "outputs": [
        {
          "output_type": "execute_result",
          "data": {
            "text/plain": [
              "tensor([[0., 1.],\n",
              "        [0., 1.],\n",
              "        [0., 1.],\n",
              "        [0., 1.],\n",
              "        [0., 1.],\n",
              "        [0., 1.],\n",
              "        [0., 1.],\n",
              "        [0., 1.],\n",
              "        [0., 1.],\n",
              "        [0., 1.],\n",
              "        [1., 0.],\n",
              "        [1., 0.],\n",
              "        [1., 0.],\n",
              "        [1., 0.],\n",
              "        [1., 0.],\n",
              "        [1., 0.],\n",
              "        [1., 0.],\n",
              "        [1., 0.],\n",
              "        [1., 0.],\n",
              "        [1., 0.]])"
            ]
          },
          "metadata": {},
          "execution_count": 3
        }
      ],
      "source": [
        "T = torch.nn.functional.one_hot(Y, num_classes=2)\n",
        "T = T.to(torch.float32)\n",
        "T"
      ],
      "id": "tO-lkjHZ0SqR"
    },
    {
      "cell_type": "markdown",
      "metadata": {
        "id": "SlUj02hO0k4q"
      },
      "source": [
        "#### Standardization of `X` of shape `[n,2]` into `XX` of shape `[n,2]`"
      ],
      "id": "SlUj02hO0k4q"
    },
    {
      "cell_type": "code",
      "execution_count": null,
      "metadata": {
        "id": "DotnI1SlwHWB"
      },
      "outputs": [],
      "source": [
        "X = torch.tensor(data[:, 1:], dtype=torch.float32)#[n,2]\n",
        "X_mean = torch.mean(X, axis=0)\n",
        "X_std = torch.std(X, axis=0)\n",
        "XX = (X-X_mean) / X_std"
      ],
      "id": "DotnI1SlwHWB"
    },
    {
      "cell_type": "markdown",
      "metadata": {
        "id": "UMFYfbMI0yIr"
      },
      "source": [
        "#### Create the trainloader with `T` and `XX`. Note that, while we use batch learning, we use `batch_size=20`."
      ],
      "id": "UMFYfbMI0yIr"
    },
    {
      "cell_type": "code",
      "execution_count": null,
      "metadata": {
        "id": "MPMNbyjjz0PB"
      },
      "outputs": [],
      "source": [],
      "id": "MPMNbyjjz0PB"
    },
    {
      "cell_type": "markdown",
      "metadata": {
        "id": "9j8J-gpgSYis"
      },
      "source": [
        "Now, we train the model with `T` and `XX` but not `Y`."
      ],
      "id": "9j8J-gpgSYis"
    },
    {
      "cell_type": "code",
      "source": [
        "\n"
      ],
      "metadata": {
        "id": "A57Ks-zyx7l9"
      },
      "id": "A57Ks-zyx7l9",
      "execution_count": null,
      "outputs": []
    },
    {
      "cell_type": "code",
      "execution_count": null,
      "metadata": {
        "id": "K2_k6zXvHx-5"
      },
      "outputs": [],
      "source": [],
      "id": "K2_k6zXvHx-5"
    },
    {
      "cell_type": "code",
      "execution_count": null,
      "metadata": {
        "id": "aNBnjc5-zZNy"
      },
      "outputs": [],
      "source": [
        "model = torch.nn.Linear(2,2, bias=True) # W: [2, 2], Y=X@W\n",
        "def forward(xx): #z=forward(xx)\n",
        "  return torch.exp(model(xx))\n",
        "def loss_ftn(T, qhat):\n",
        "  temp = - torch.mean(torch.sum(T * torch.log(qhat), axis=1))\n",
        "  return temp\n",
        "\n",
        "optimizer = torch.optim.SGD(model.parameters(), lr= 0.1)\n",
        "\n",
        "history=[]\n",
        "epochs = 1000\n",
        "\n",
        "for epoch in range(epochs):\n",
        "    zhat = forward(XX)\n",
        "    qhat = zhat/torch.sum(zhat, axis=1).reshape([-1,1])\n",
        "    #qhat: [n,2]\n",
        "    loss = loss_ftn(T, qhat)\n",
        "    loss.backward()\n",
        "    optimizer.step()\n",
        "    optimizer.zero_grad()\n",
        "    history.append(loss.item())"
      ],
      "id": "aNBnjc5-zZNy"
    },
    {
      "cell_type": "code",
      "execution_count": null,
      "metadata": {
        "colab": {
          "base_uri": "https://localhost:8080/",
          "height": 447
        },
        "id": "BywclAwqxwhJ",
        "outputId": "160744c0-73d8-4d49-fa6d-4631dccefa9a"
      },
      "outputs": [
        {
          "output_type": "execute_result",
          "data": {
            "text/plain": [
              "[<matplotlib.lines.Line2D at 0x794e1680e050>]"
            ]
          },
          "metadata": {},
          "execution_count": 6
        },
        {
          "output_type": "display_data",
          "data": {
            "text/plain": [
              "<Figure size 640x480 with 1 Axes>"
            ],
            "image/png": "[encoded data removed]"
          },
          "metadata": {}
        }
      ],
      "source": [
        "\n",
        "plt.plot(history)"
      ],
      "id": "BywclAwqxwhJ"
    },
    {
      "cell_type": "markdown",
      "metadata": {
        "id": "qMKdWCnSSiH-"
      },
      "source": [
        "Now, check the accuracy of the model using `phat=model(XX)` of shape `[n,1]`and `Y` of shape `[n,1]`."
      ],
      "id": "qMKdWCnSSiH-"
    },
    {
      "cell_type": "code",
      "source": [
        "Zhat = forward(XX)\n",
        "Qhat = Zhat/torch.sum(Zhat, axis=1).reshape([-1,1])\n",
        "print(Qhat)\n",
        "\n",
        "Yhat = torch.argmax(Qhat, axis=1)\n",
        "Y = torch.argmax(T, axis=1)\n",
        "\n",
        "torch.mean((Y == Yhat)*1.0)"
      ],
      "metadata": {
        "colab": {
          "base_uri": "https://localhost:8080/"
        },
        "id": "MG-duyct3M0o",
        "outputId": "1eaa428c-f968-4377-ebd5-b5b9daa2aaa3"
      },
      "id": "MG-duyct3M0o",
      "execution_count": null,
      "outputs": [
        {
          "output_type": "stream",
          "name": "stdout",
          "text": [
            "tensor([[0.2798, 0.7202],\n",
            "        [0.1056, 0.8944],\n",
            "        [0.8077, 0.1923],\n",
            "        [0.3145, 0.6855],\n",
            "        [0.8323, 0.1677],\n",
            "        [0.2019, 0.7981],\n",
            "        [0.0714, 0.9286],\n",
            "        [0.0407, 0.9593],\n",
            "        [0.1224, 0.8776],\n",
            "        [0.3145, 0.6855],\n",
            "        [0.4133, 0.5867],\n",
            "        [0.8077, 0.1923],\n",
            "        [0.8840, 0.1160],\n",
            "        [0.9616, 0.0384],\n",
            "        [0.9325, 0.0675],\n",
            "        [0.8077, 0.1923],\n",
            "        [0.4541, 0.5459],\n",
            "        [0.7323, 0.2677],\n",
            "        [0.6014, 0.3986],\n",
            "        [0.3145, 0.6855]], grad_fn=<DivBackward0>)\n"
          ]
        },
        {
          "output_type": "execute_result",
          "data": {
            "text/plain": [
              "tensor(0.7500)"
            ]
          },
          "metadata": {},
          "execution_count": 7
        }
      ]
    },
    {
      "cell_type": "code",
      "execution_count": null,
      "metadata": {
        "id": "liMawOLL4dMZ"
      },
      "outputs": [],
      "source": [
        "def accuracy_ftn(phat, t):\n",
        "  yhat = (phat>0.5).to(torch.float32)\n",
        "  y = torch.argmax(t, axis=1).to(torch.float32)\n",
        "  accuracy = torch.mean((y.reshape([-1,1])==yhat).to(torch.float32))\n",
        "  return accuracy\n"
      ],
      "id": "liMawOLL4dMZ"
    },
    {
      "cell_type": "code",
      "execution_count": null,
      "metadata": {
        "colab": {
          "base_uri": "https://localhost:8080/"
        },
        "id": "02s19rUI446l",
        "outputId": "90fb1d58-be48-4fc8-a486-7a3755bf2c8f"
      },
      "outputs": [
        {
          "output_type": "execute_result",
          "data": {
            "text/plain": [
              "tensor(0.6000)"
            ]
          },
          "metadata": {},
          "execution_count": 9
        }
      ],
      "source": [
        "phat = model(XX)\n",
        "accuracy = accuracy_ftn(phat, T)\n",
        "accuracy"
      ],
      "id": "02s19rUI446l"
    },
    {
      "cell_type": "code",
      "source": [
        "T"
      ],
      "metadata": {
        "colab": {
          "base_uri": "https://localhost:8080/"
        },
        "id": "l_3Xn7kryQTY",
        "outputId": "fb915b4d-0f16-4637-e5c4-fe4462bad954"
      },
      "id": "l_3Xn7kryQTY",
      "execution_count": null,
      "outputs": [
        {
          "output_type": "execute_result",
          "data": {
            "text/plain": [
              "tensor([[0., 1.],\n",
              "        [0., 1.],\n",
              "        [0., 1.],\n",
              "        [0., 1.],\n",
              "        [0., 1.],\n",
              "        [0., 1.],\n",
              "        [0., 1.],\n",
              "        [0., 1.],\n",
              "        [0., 1.],\n",
              "        [0., 1.],\n",
              "        [1., 0.],\n",
              "        [1., 0.],\n",
              "        [1., 0.],\n",
              "        [1., 0.],\n",
              "        [1., 0.],\n",
              "        [1., 0.],\n",
              "        [1., 0.],\n",
              "        [1., 0.],\n",
              "        [1., 0.],\n",
              "        [1., 0.]])"
            ]
          },
          "metadata": {},
          "execution_count": 10
        }
      ]
    },
    {
      "cell_type": "code",
      "source": [
        "XX"
      ],
      "metadata": {
        "colab": {
          "base_uri": "https://localhost:8080/"
        },
        "id": "Socg1lgeyNGr",
        "outputId": "9c1fc43f-09f4-4457-dcbc-e956a7720967"
      },
      "id": "Socg1lgeyNGr",
      "execution_count": null,
      "outputs": [
        {
          "output_type": "execute_result",
          "data": {
            "text/plain": [
              "tensor([[ 1.0775,  0.9498],\n",
              "        [ 1.0775,  1.6948],\n",
              "        [ 1.0775, -0.5401],\n",
              "        [-0.8816,  0.2049],\n",
              "        [-0.8816, -1.2850],\n",
              "        [-0.8816,  0.5773],\n",
              "        [-0.8816,  1.3223],\n",
              "        [-0.8816,  1.6948],\n",
              "        [-0.8816,  0.9498],\n",
              "        [-0.8816,  0.2049],\n",
              "        [ 1.0775,  0.5773],\n",
              "        [ 1.0775, -0.5401],\n",
              "        [ 1.0775, -0.9126],\n",
              "        [ 1.0775, -1.6575],\n",
              "        [ 1.0775, -1.2850],\n",
              "        [ 1.0775, -0.5401],\n",
              "        [-0.8816, -0.1676],\n",
              "        [-0.8816, -0.9126],\n",
              "        [-0.8816, -0.5401],\n",
              "        [-0.8816,  0.2049]])"
            ]
          },
          "metadata": {},
          "execution_count": 11
        }
      ]
    },
    {
      "cell_type": "markdown",
      "metadata": {
        "id": "N5nHnwIxIS3g"
      },
      "source": [
        "## 1.2 Modification of the logistic regression based on the multinomial logistic regression method"
      ],
      "id": "N5nHnwIxIS3g"
    },
    {
      "cell_type": "markdown",
      "metadata": {
        "id": "2oxxelQr5GrR"
      },
      "source": [
        "## Example 1.2.1: (Revisit heart attack patients)\n",
        "\n",
        "Now, we do other way of logistic regression.\n",
        "\n",
        "Here,\n",
        "with the following parameters\n",
        "```\n",
        "weight0: [3,1]\n",
        "weight1: [3,1]\n",
        "```\n",
        "we design\n",
        "```\n",
        "p0_hat = torch.exp( XX @ weight0 )\n",
        "p1_hat = torch.exp( XX @ weight1 )\n",
        "```\n",
        "This model is equivalent with\n",
        "```\n",
        "p_hat = torch.exp( XX @ weight )\n",
        "```\n",
        "with the following parameters\n",
        "```\n",
        "weight1: [2,2]\n",
        "```\n",
        "\n",
        "Of course, theses are not the legitimate probabilities, and should be normalized.\n"
      ],
      "id": "2oxxelQr5GrR"
    },
    {
      "cell_type": "code",
      "execution_count": null,
      "metadata": {
        "id": "8CVmemY7R-x9",
        "colab": {
          "base_uri": "https://localhost:8080/"
        },
        "outputId": "f641755d-6b6d-4f4d-afc7-f0db927e7e7a"
      },
      "outputs": [
        {
          "output_type": "execute_result",
          "data": {
            "text/plain": [
              "tensor([1., 1.])"
            ]
          },
          "metadata": {},
          "execution_count": 12
        }
      ],
      "source": [
        "torch.std(XX, axis=0)"
      ],
      "id": "8CVmemY7R-x9"
    },
    {
      "cell_type": "markdown",
      "metadata": {
        "id": "SQ1WC5K6R-22"
      },
      "source": [
        "#### Standardization of `X` of shape `[n,2]` into `XX` of shape `[n,2]` and add intercetption term so that `XX` becomes the shape of `[n,3]`"
      ],
      "id": "SQ1WC5K6R-22"
    },
    {
      "cell_type": "code",
      "execution_count": null,
      "metadata": {
        "colab": {
          "base_uri": "https://localhost:8080/"
        },
        "id": "AhXWCeM4R-23",
        "outputId": "32af56c3-c2f8-47f4-a53f-381a00b926fe"
      },
      "outputs": [
        {
          "output_type": "execute_result",
          "data": {
            "text/plain": [
              "torch.Size([20, 3])"
            ]
          },
          "metadata": {},
          "execution_count": 13
        }
      ],
      "source": [
        "\n",
        "\n",
        "n=len(X)\n",
        "ones =torch.ones([n,1])\n",
        "XX = torch.concatenate([ones, XX], axis=1)\n",
        "XX.shape"
      ],
      "id": "AhXWCeM4R-23"
    },
    {
      "cell_type": "code",
      "source": [
        "XX = XX[:, 1:]\n",
        "XX"
      ],
      "metadata": {
        "colab": {
          "base_uri": "https://localhost:8080/"
        },
        "id": "m7cAt6ZAywwH",
        "outputId": "df719d62-6bc4-4187-93d9-2e714e5578ca"
      },
      "id": "m7cAt6ZAywwH",
      "execution_count": null,
      "outputs": [
        {
          "output_type": "execute_result",
          "data": {
            "text/plain": [
              "tensor([[ 1.0775,  0.9498],\n",
              "        [ 1.0775,  1.6948],\n",
              "        [ 1.0775, -0.5401],\n",
              "        [-0.8816,  0.2049],\n",
              "        [-0.8816, -1.2850],\n",
              "        [-0.8816,  0.5773],\n",
              "        [-0.8816,  1.3223],\n",
              "        [-0.8816,  1.6948],\n",
              "        [-0.8816,  0.9498],\n",
              "        [-0.8816,  0.2049],\n",
              "        [ 1.0775,  0.5773],\n",
              "        [ 1.0775, -0.5401],\n",
              "        [ 1.0775, -0.9126],\n",
              "        [ 1.0775, -1.6575],\n",
              "        [ 1.0775, -1.2850],\n",
              "        [ 1.0775, -0.5401],\n",
              "        [-0.8816, -0.1676],\n",
              "        [-0.8816, -0.9126],\n",
              "        [-0.8816, -0.5401],\n",
              "        [-0.8816,  0.2049]])"
            ]
          },
          "metadata": {},
          "execution_count": 14
        }
      ]
    },
    {
      "cell_type": "markdown",
      "metadata": {
        "id": "yFsk2UCrR-23"
      },
      "source": [
        "#### Create the trainloader with `T` and `XX`. Note that, while we use batch learning, we use `batch_size=20`."
      ],
      "id": "yFsk2UCrR-23"
    },
    {
      "cell_type": "code",
      "execution_count": null,
      "metadata": {
        "id": "UIk4TGCtR-23"
      },
      "outputs": [],
      "source": [
        "dataset = TensorDataset(T,XX)\n",
        "trainloader = DataLoader(dataset=dataset, batch_size=20, shuffle=True) # We set batch_size = 20 on purpose. Otherwise, train is not working very well."
      ],
      "id": "UIk4TGCtR-23"
    },
    {
      "cell_type": "markdown",
      "metadata": {
        "id": "7EZ9fn5aSBOL"
      },
      "source": [
        "\n",
        "### Now, we define the model and train."
      ],
      "id": "7EZ9fn5aSBOL"
    },
    {
      "cell_type": "code",
      "execution_count": null,
      "metadata": {
        "id": "IKCGw_REVX6m"
      },
      "outputs": [],
      "source": [
        "class myclass(torch.nn.Module):\n",
        "    def __init__(self, in_units, units):\n",
        "        super().__init__()\n",
        "        self.linear = torch.nn.Linear( in_units, units, bias=False) # X@W, W:[in_units, units]=[3,2]\n",
        "\n",
        "    def forward(self, X):\n",
        "        Z = self.linear(X) #X: [n,3]  # Z: [n,2]\n",
        "        temp = torch.exp(Z)\n",
        "        Q = temp / torch.sum(temp, axis=1).reshape(-1, 1)\n",
        "        return Q\n",
        "\n",
        "reg_ftn = myclass(2,2) # Important\n",
        "\n",
        "def likelihood_function(tt, qq):\n",
        "  # tt: one-hot encoding of y, shape: [n,2]\n",
        "  # phat: probability of shape: [n,2]\n",
        "  temp = -torch.mean (torch.sum(tt * torch.log(qq), axis=1))\n",
        "  return temp\n",
        "\n",
        "optimizer = torch.optim.SGD(reg_ftn.parameters(), lr= 0.1)"
      ],
      "id": "IKCGw_REVX6m"
    },
    {
      "cell_type": "code",
      "source": [
        "XX.shape"
      ],
      "metadata": {
        "id": "uzjA-5FjDgPt",
        "outputId": "513aa264-6aa9-4697-9e23-01b3109a9c8e",
        "colab": {
          "base_uri": "https://localhost:8080/"
        }
      },
      "id": "uzjA-5FjDgPt",
      "execution_count": null,
      "outputs": [
        {
          "output_type": "execute_result",
          "data": {
            "text/plain": [
              "torch.Size([20, 2])"
            ]
          },
          "metadata": {},
          "execution_count": 22
        }
      ]
    },
    {
      "cell_type": "code",
      "execution_count": null,
      "metadata": {
        "id": "AEP9vOs7VpKO"
      },
      "outputs": [],
      "source": [
        "history=[]\n",
        "epochs = 1000\n",
        "n=len(XX)\n",
        "for i in range(epochs):\n",
        "  epoch_loss = 0.0\n",
        "  for tt, xx in trainloader:\n",
        "    qhat = reg_ftn(xx)\n",
        "    loss = likelihood_function(tt, qhat)\n",
        "    loss.backward()\n",
        "    optimizer.step()\n",
        "    optimizer.zero_grad()\n",
        "    eopch_loss = epoch_loss + loss.item()*len(tt)\n",
        "  history.append(eopch_loss)"
      ],
      "id": "AEP9vOs7VpKO"
    },
    {
      "cell_type": "code",
      "execution_count": null,
      "metadata": {
        "colab": {
          "base_uri": "https://localhost:8080/",
          "height": 447
        },
        "id": "kaD2AkmEX8wK",
        "outputId": "e3eeb129-41b4-417d-e822-5d6d5321880b"
      },
      "outputs": [
        {
          "output_type": "execute_result",
          "data": {
            "text/plain": [
              "[<matplotlib.lines.Line2D at 0x794e165d3670>]"
            ]
          },
          "metadata": {},
          "execution_count": 23
        },
        {
          "output_type": "display_data",
          "data": {
            "text/plain": [
              "<Figure size 640x480 with 1 Axes>"
            ],
            "image/png": "[encoded data removed]"
          },
          "metadata": {}
        }
      ],
      "source": [
        "plt.plot(history)"
      ],
      "id": "kaD2AkmEX8wK"
    },
    {
      "cell_type": "markdown",
      "metadata": {
        "id": "J1T9pHDYZBIE"
      },
      "source": [
        "Now, check the accuracy again."
      ],
      "id": "J1T9pHDYZBIE"
    },
    {
      "cell_type": "code",
      "execution_count": null,
      "metadata": {
        "id": "P03bu52U7RRI"
      },
      "outputs": [],
      "source": [],
      "id": "P03bu52U7RRI"
    },
    {
      "cell_type": "markdown",
      "metadata": {
        "id": "ejsDtjpS7Rai"
      },
      "source": [
        "Now, check the accuracy of the model using `phat=model(XX)` of shape `[n,2]`and `Y` of shape `[n,1]`."
      ],
      "id": "ejsDtjpS7Rai"
    },
    {
      "cell_type": "code",
      "execution_count": null,
      "metadata": {
        "id": "PSLBp7gq7Rai"
      },
      "outputs": [],
      "source": [
        "def accuracy_ftn(qhat, t):\n",
        "  yhat = torch.argmax(qhat, axis=1).to(torch.float32)\n",
        "  y = torch.argmax(t, axis=1).to(torch.float32)\n",
        "  accuracy = torch.mean((y==yhat).to(torch.float32))\n",
        "  return accuracy\n"
      ],
      "id": "PSLBp7gq7Rai"
    },
    {
      "cell_type": "code",
      "execution_count": null,
      "metadata": {
        "colab": {
          "base_uri": "https://localhost:8080/"
        },
        "id": "N1hr9iQT7Rai",
        "outputId": "fb30d44c-5314-4cac-94d8-cd3cbf6df537"
      },
      "outputs": [
        {
          "output_type": "execute_result",
          "data": {
            "text/plain": [
              "tensor(0.7500)"
            ]
          },
          "metadata": {},
          "execution_count": 25
        }
      ],
      "source": [
        "Qhat = reg_ftn(XX)\n",
        "accuracy = accuracy_ftn(Qhat, T)\n",
        "accuracy"
      ],
      "id": "N1hr9iQT7Rai"
    },
    {
      "cell_type": "markdown",
      "metadata": {
        "id": "H0HPxDYRRvyD"
      },
      "source": [
        "Now, we want to use `torch.nn.Linear` with `bias=False`.\n",
        "Here,\n",
        "with the following parameters\n",
        "```\n",
        "weight0: [3,1]\n",
        "weight1: [3,1]\n",
        "```\n",
        "we design\n",
        "```\n",
        "p0_hat = torch.exp( XX @ weight0)\n",
        "p1_hat = torch.exp( XX @ weight1)\n",
        "```\n",
        "This model is equivalent with\n",
        "```\n",
        "p_hat = torch.exp( XX @ weight)\n",
        "```\n",
        "with the following parameters\n",
        "```\n",
        "weight: [3,2]\n",
        "```"
      ],
      "id": "H0HPxDYRRvyD"
    },
    {
      "cell_type": "code",
      "execution_count": null,
      "metadata": {
        "id": "oyLiZtuVUUTZ"
      },
      "outputs": [],
      "source": [],
      "id": "oyLiZtuVUUTZ"
    },
    {
      "cell_type": "markdown",
      "metadata": {
        "id": "Qzg_9CsdUUa_"
      },
      "source": [
        "#### Transformation of `Y` of shape `[n,1]` into one-hot encoding `T` of shape `[n,2]`."
      ],
      "id": "Qzg_9CsdUUa_"
    },
    {
      "cell_type": "code",
      "execution_count": null,
      "metadata": {
        "id": "tbzriQMUUUa_"
      },
      "outputs": [],
      "source": [
        "Y = torch.tensor(data[:, 0], dtype=torch.int64)\n",
        "T = torch.nn.functional.one_hot(Y, num_classes=2)\n",
        "T = T.to(torch.float32)"
      ],
      "id": "tbzriQMUUUa_"
    },
    {
      "cell_type": "markdown",
      "metadata": {
        "id": "0yxv1Ut0UUa_"
      },
      "source": [
        "#### Standardization of `X` of shape `[n,2]` into `XX` of shape `[n,2]`"
      ],
      "id": "0yxv1Ut0UUa_"
    },
    {
      "cell_type": "code",
      "execution_count": null,
      "metadata": {
        "id": "W7-KY4VUUUbA"
      },
      "outputs": [],
      "source": [
        "X = torch.tensor(data[:, 1:], dtype=torch.float32)\n",
        "X_mean = torch.mean(X, axis=0)\n",
        "X_std = torch.std(X, axis=0)\n",
        "XX = (X-X_mean) / X_std"
      ],
      "id": "W7-KY4VUUUbA"
    },
    {
      "cell_type": "markdown",
      "metadata": {
        "id": "umdS9ckOXOll"
      },
      "source": [
        "XX: [n,2]"
      ],
      "id": "umdS9ckOXOll"
    },
    {
      "cell_type": "markdown",
      "metadata": {
        "id": "XFE7KRzMUUbA"
      },
      "source": [
        "#### Create the trainloader with `T` and `XX`. Note that, while we use batch learning, we use `batch_size=20`."
      ],
      "id": "XFE7KRzMUUbA"
    },
    {
      "cell_type": "code",
      "execution_count": null,
      "metadata": {
        "id": "ofs3xSNvUUbA"
      },
      "outputs": [],
      "source": [
        "dataset = TensorDataset(T,XX)\n",
        "trainloader = DataLoader(dataset=dataset, batch_size=20, shuffle=True) # We set batch_size = 20 on purpose. Otherwise, train is not working very well."
      ],
      "id": "ofs3xSNvUUbA"
    },
    {
      "cell_type": "markdown",
      "metadata": {
        "id": "8FKvmsKmXXMJ"
      },
      "source": [
        "# Now, we train model."
      ],
      "id": "8FKvmsKmXXMJ"
    },
    {
      "cell_type": "code",
      "execution_count": null,
      "metadata": {
        "id": "5NutkqUTXWrD",
        "colab": {
          "base_uri": "https://localhost:8080/"
        },
        "outputId": "12c8fa0d-1594-4c3d-8e70-953ac268ce82"
      },
      "outputs": [
        {
          "output_type": "execute_result",
          "data": {
            "text/plain": [
              "tensor([[ 1.0775,  0.9498],\n",
              "        [ 1.0775,  1.6948],\n",
              "        [ 1.0775, -0.5401],\n",
              "        [-0.8816,  0.2049],\n",
              "        [-0.8816, -1.2850],\n",
              "        [-0.8816,  0.5773],\n",
              "        [-0.8816,  1.3223],\n",
              "        [-0.8816,  1.6948],\n",
              "        [-0.8816,  0.9498],\n",
              "        [-0.8816,  0.2049],\n",
              "        [ 1.0775,  0.5773],\n",
              "        [ 1.0775, -0.5401],\n",
              "        [ 1.0775, -0.9126],\n",
              "        [ 1.0775, -1.6575],\n",
              "        [ 1.0775, -1.2850],\n",
              "        [ 1.0775, -0.5401],\n",
              "        [-0.8816, -0.1676],\n",
              "        [-0.8816, -0.9126],\n",
              "        [-0.8816, -0.5401],\n",
              "        [-0.8816,  0.2049]])"
            ]
          },
          "metadata": {},
          "execution_count": 29
        }
      ],
      "source": [
        "XX"
      ],
      "id": "5NutkqUTXWrD"
    },
    {
      "cell_type": "code",
      "execution_count": null,
      "metadata": {
        "id": "R5CsQ32uXZDp"
      },
      "outputs": [],
      "source": [
        "reg_ftn = torch.nn.Linear( 2, 2, bias=True) # X-->Z\n",
        "\n",
        "def likelihood_function(tt, qhat):\n",
        "  # tt: one-hot encoding of y, shape: [n,2]\n",
        "  # qhat: probability of shape: [n,2]\n",
        "  temp = -torch.mean(torch.sum(tt * torch.log(qhat), axis=1))\n",
        "  return temp\n",
        "\n",
        "optimizer = torch.optim.SGD(reg_ftn.parameters(), lr= 0.1)"
      ],
      "id": "R5CsQ32uXZDp"
    },
    {
      "cell_type": "code",
      "execution_count": null,
      "metadata": {
        "id": "umzV--O7XZDw"
      },
      "outputs": [],
      "source": [
        "history=[]\n",
        "epochs = 1000\n",
        "n=len(XX)\n",
        "for i in range(epochs):\n",
        "  epoch_loss = 0.0\n",
        "  for tt, xx in trainloader:\n",
        "    zhat = reg_ftn(xx)\n",
        "    qhat = torch.softmax(zhat, dim=1)\n",
        "    loss = likelihood_function(tt, qhat)\n",
        "    loss.backward()\n",
        "    optimizer.step()\n",
        "    optimizer.zero_grad()\n",
        "    eopch_loss = epoch_loss + loss.item()*len(tt)\n",
        "  history.append(eopch_loss)"
      ],
      "id": "umzV--O7XZDw"
    },
    {
      "cell_type": "code",
      "execution_count": null,
      "metadata": {
        "colab": {
          "base_uri": "https://localhost:8080/",
          "height": 450
        },
        "id": "OxrNuzQtXZDw",
        "outputId": "52653036-69eb-4270-d505-8874edb934f7"
      },
      "outputs": [
        {
          "output_type": "execute_result",
          "data": {
            "text/plain": [
              "[<matplotlib.lines.Line2D at 0x794e1703d9f0>]"
            ]
          },
          "metadata": {},
          "execution_count": 32
        },
        {
          "output_type": "display_data",
          "data": {
            "text/plain": [
              "<Figure size 640x480 with 1 Axes>"
            ],
            "image/png": "[encoded data removed]"
          },
          "metadata": {}
        }
      ],
      "source": [
        "plt.plot(history)"
      ],
      "id": "OxrNuzQtXZDw"
    },
    {
      "cell_type": "markdown",
      "metadata": {
        "id": "g1EShknHXl8y"
      },
      "source": [
        "Now, we calculate accuracy"
      ],
      "id": "g1EShknHXl8y"
    },
    {
      "cell_type": "code",
      "execution_count": null,
      "metadata": {
        "id": "vg7EV2wkXhv-"
      },
      "outputs": [],
      "source": [],
      "id": "vg7EV2wkXhv-"
    },
    {
      "cell_type": "code",
      "execution_count": null,
      "metadata": {
        "id": "QcMvHAJHXnsL"
      },
      "outputs": [],
      "source": [
        "def accuracy_ftn(qhat, t):\n",
        "  yhat = torch.argmax(qhat, axis=1).to(torch.float32)\n",
        "  y = torch.argmax(t, axis=1).to(torch.float32)\n",
        "  accuracy = torch.mean((y.reshape([-1])==yhat).to(torch.float32))\n",
        "  return accuracy\n"
      ],
      "id": "QcMvHAJHXnsL"
    },
    {
      "cell_type": "code",
      "execution_count": null,
      "metadata": {
        "colab": {
          "base_uri": "https://localhost:8080/"
        },
        "id": "ScqgjdwHXnsL",
        "outputId": "67ee6bd8-9672-4773-a898-bfbbe7ba4849"
      },
      "outputs": [
        {
          "output_type": "execute_result",
          "data": {
            "text/plain": [
              "tensor(0.7500)"
            ]
          },
          "metadata": {},
          "execution_count": 34
        }
      ],
      "source": [
        "Zhat = reg_ftn(XX)\n",
        "Qhat = torch.softmax(Zhat, dim=1)\n",
        "accuracy = accuracy_ftn(Qhat, T)\n",
        "accuracy"
      ],
      "id": "ScqgjdwHXnsL"
    },
    {
      "cell_type": "markdown",
      "metadata": {
        "id": "j0vlDSZUXnsM"
      },
      "source": [
        "#### Transformation of `Y` of shape `[n,1]` into one-hot encoding `T` of shape `[n,2]`."
      ],
      "id": "j0vlDSZUXnsM"
    },
    {
      "cell_type": "markdown",
      "metadata": {
        "id": "hevQIuD3TZ0i"
      },
      "source": [
        "## Exercise 1.2.2: Logistic regression with Breast cancer data (Off-line)\n",
        "\n"
      ],
      "id": "hevQIuD3TZ0i"
    },
    {
      "cell_type": "code",
      "execution_count": null,
      "metadata": {
        "id": "9zNtsYjaXS4g"
      },
      "outputs": [],
      "source": [],
      "id": "9zNtsYjaXS4g"
    },
    {
      "cell_type": "markdown",
      "metadata": {
        "id": "PmcH9p7GTfB1"
      },
      "source": [
        "FIrst, we load data"
      ],
      "id": "PmcH9p7GTfB1"
    },
    {
      "cell_type": "code",
      "execution_count": null,
      "metadata": {
        "id": "Oqj8XjaKRU7W"
      },
      "outputs": [],
      "source": [
        "from sklearn.datasets import load_breast_cancer\n",
        "cancer1 = load_breast_cancer()"
      ],
      "id": "Oqj8XjaKRU7W"
    },
    {
      "cell_type": "code",
      "execution_count": null,
      "metadata": {
        "colab": {
          "base_uri": "https://localhost:8080/"
        },
        "id": "FyJ1no3wwIvW",
        "outputId": "880ace9d-e0ef-4871-c233-15186e6f7a13"
      },
      "outputs": [
        {
          "output_type": "stream",
          "name": "stdout",
          "text": [
            "Predictors:  ['mean radius' 'mean texture' 'mean perimeter' 'mean area'\n",
            " 'mean smoothness' 'mean compactness' 'mean concavity'\n",
            " 'mean concave points' 'mean symmetry' 'mean fractal dimension'\n",
            " 'radius error' 'texture error' 'perimeter error' 'area error'\n",
            " 'smoothness error' 'compactness error' 'concavity error'\n",
            " 'concave points error' 'symmetry error' 'fractal dimension error'\n",
            " 'worst radius' 'worst texture' 'worst perimeter' 'worst area'\n",
            " 'worst smoothness' 'worst compactness' 'worst concavity'\n",
            " 'worst concave points' 'worst symmetry' 'worst fractal dimension']\n"
          ]
        }
      ],
      "source": [
        "print(\"Predictors: \", cancer1.feature_names)"
      ],
      "id": "FyJ1no3wwIvW"
    },
    {
      "cell_type": "code",
      "execution_count": null,
      "metadata": {
        "colab": {
          "base_uri": "https://localhost:8080/"
        },
        "id": "gLYGiypQwJZ5",
        "outputId": "19d11aec-1900-4f33-d78c-90a0c0d70d88"
      },
      "outputs": [
        {
          "output_type": "stream",
          "name": "stdout",
          "text": [
            "\n",
            "Response:  ['malignant' 'benign']\n"
          ]
        }
      ],
      "source": [
        "print(\"\\nResponse: \", cancer1.target_names)"
      ],
      "id": "gLYGiypQwJZ5"
    },
    {
      "cell_type": "markdown",
      "metadata": {
        "id": "EvDv1Rd6wGsz"
      },
      "source": [
        "Here we can see that there are 30 predictors available in our dataset that can be used in our logistic regression models.\n",
        "\n",
        "Purely for convenience, we convert this sklearn.utils.Bunch object to a pandas.DataFrame as pandas DataFrames are a very commonly used data structure. We then use the shape property to see it has 569 rows and 30 columns."
      ],
      "id": "EvDv1Rd6wGsz"
    },
    {
      "cell_type": "code",
      "execution_count": null,
      "metadata": {
        "colab": {
          "base_uri": "https://localhost:8080/"
        },
        "id": "We2IsaCsTcLM",
        "outputId": "009ebc5c-fbfe-47ab-9ead-858b9b565631"
      },
      "outputs": [
        {
          "output_type": "execute_result",
          "data": {
            "text/plain": [
              "(569, 30)"
            ]
          },
          "metadata": {},
          "execution_count": 38
        }
      ],
      "source": [
        "import pandas as pd\n",
        "\n",
        "cancer = pd.DataFrame(cancer1.data, columns=cancer1.feature_names)\n",
        "cancer.columns = cancer.columns.str.replace(' ','_')\n",
        "cancer.shape"
      ],
      "id": "We2IsaCsTcLM"
    },
    {
      "cell_type": "code",
      "execution_count": null,
      "metadata": {
        "colab": {
          "base_uri": "https://localhost:8080/"
        },
        "id": "9oqgDfDaxJVG",
        "outputId": "a14eeef5-f83c-427c-f70f-488257078408"
      },
      "outputs": [
        {
          "output_type": "execute_result",
          "data": {
            "text/plain": [
              "array([0, 0, 0, 0, 0, 0, 0, 0, 0, 0, 0, 0, 0, 0, 0, 0, 0, 0, 0, 1, 1, 1,\n",
              "       0, 0, 0, 0, 0, 0, 0, 0, 0, 0, 0, 0, 0, 0, 0, 1, 0, 0, 0, 0, 0, 0,\n",
              "       0, 0, 1, 0, 1, 1])"
            ]
          },
          "metadata": {},
          "execution_count": 39
        }
      ],
      "source": [
        "cancer1.target[:50] # 1 means malignant."
      ],
      "id": "9oqgDfDaxJVG"
    },
    {
      "cell_type": "code",
      "execution_count": null,
      "metadata": {
        "id": "48c5nTmhUg6c"
      },
      "outputs": [],
      "source": [
        "\n",
        "X = torch.tensor(cancer.values, dtype=torch.float32)\n",
        "n=X.shape[0]\n",
        "\n",
        "\n",
        "X_mean = torch.mean(X, axis=0)\n",
        "X_std = torch.std(X, axis=0)\n",
        "XX = (X-X_mean)/X_std\n",
        "\n",
        "Y = torch.tensor(cancer1.target, dtype=torch.int64)\n",
        "T = torch.nn.functional.one_hot(Y, num_classes=2)\n",
        "T = T.to(torch.float32)\n",
        "\n",
        "dataset = TensorDataset(XX,T)\n",
        "trainloader = DataLoader(dataset=dataset, batch_size=32, shuffle=True)"
      ],
      "id": "48c5nTmhUg6c"
    },
    {
      "cell_type": "markdown",
      "metadata": {
        "id": "Xf462OBCUN55"
      },
      "source": [
        "With the given `trainloader`, train two logistic models and calculate the train accuracies."
      ],
      "id": "Xf462OBCUN55"
    },
    {
      "cell_type": "code",
      "source": [
        "XX.shape"
      ],
      "metadata": {
        "colab": {
          "base_uri": "https://localhost:8080/"
        },
        "id": "AZTLulOQTIQR",
        "outputId": "cb2920ef-f20f-482f-bf05-0d90889eaa30"
      },
      "id": "AZTLulOQTIQR",
      "execution_count": null,
      "outputs": [
        {
          "output_type": "execute_result",
          "data": {
            "text/plain": [
              "torch.Size([569, 30])"
            ]
          },
          "metadata": {},
          "execution_count": 41
        }
      ]
    },
    {
      "cell_type": "code",
      "execution_count": null,
      "metadata": {
        "id": "GBa0NhLLVANA"
      },
      "outputs": [],
      "source": [
        "class softmax(torch.nn.Module):\n",
        "    def __init__(self, in_units, units):\n",
        "        super().__init__()\n",
        "        self.linear = torch.nn.Linear( in_units, units, bias=True)\n",
        "\n",
        "    def forward(self, X):\n",
        "        Z = self.linear(X)\n",
        "        temp = torch.exp(Z)\n",
        "        Q = temp / torch.sum(temp, axis=1).reshape(-1, 1)\n",
        "        # P_sum = torch.sum(P, axis=1).reshape(-1, 1)\n",
        "        # torch.exp( self.linear(X) )\n",
        "        # P_sum = torch.sum(P, axis=1).reshape(-1, 1)\n",
        "        # temp = P/P_sum\n",
        "        return Q\n",
        "\n",
        "softmax_ftn = softmax(30,2) # Important\n",
        "\n",
        "def likelihood_function(tt, qq):\n",
        "  # tt: one-hot encoding of y, shape: [n,2]\n",
        "  # phat: probability of shape: [n,2]\n",
        "  temp = -torch.mean (tt * torch.log(qq))\n",
        "  return temp\n",
        "\n",
        "optimizer = torch.optim.SGD(softmax_ftn.parameters(), lr= 0.001)"
      ],
      "id": "GBa0NhLLVANA"
    },
    {
      "cell_type": "code",
      "source": [
        "XX.shape"
      ],
      "metadata": {
        "outputId": "6778133d-df39-4480-de5b-8de27b0a55a6",
        "colab": {
          "base_uri": "https://localhost:8080/"
        },
        "id": "ysdPSQWfVANA"
      },
      "execution_count": null,
      "outputs": [
        {
          "output_type": "execute_result",
          "data": {
            "text/plain": [
              "torch.Size([569, 30])"
            ]
          },
          "metadata": {},
          "execution_count": 43
        }
      ],
      "id": "ysdPSQWfVANA"
    },
    {
      "cell_type": "code",
      "execution_count": null,
      "metadata": {
        "id": "xzG69JQCVANA"
      },
      "outputs": [],
      "source": [
        "history=[]\n",
        "epochs = 200\n",
        "n=len(XX)\n",
        "for i in range(epochs):\n",
        "  epoch_loss = 0.0\n",
        "  for xx, tt in trainloader:\n",
        "    phat = softmax_ftn(xx)\n",
        "    loss = likelihood_function(tt, phat)\n",
        "    loss.backward()\n",
        "    optimizer.step()\n",
        "    optimizer.zero_grad()\n",
        "    eopch_loss = epoch_loss + loss.item()*len(tt)\n",
        "  history.append(eopch_loss)"
      ],
      "id": "xzG69JQCVANA"
    },
    {
      "cell_type": "code",
      "execution_count": null,
      "metadata": {
        "colab": {
          "base_uri": "https://localhost:8080/",
          "height": 447
        },
        "outputId": "4c6eb65d-1efc-479f-b891-352f310cbd73",
        "id": "N4SlSSwEVANA"
      },
      "outputs": [
        {
          "output_type": "execute_result",
          "data": {
            "text/plain": [
              "[<matplotlib.lines.Line2D at 0x794de19ab1c0>]"
            ]
          },
          "metadata": {},
          "execution_count": 45
        },
        {
          "output_type": "display_data",
          "data": {
            "text/plain": [
              "<Figure size 640x480 with 1 Axes>"
            ],
            "image/png": "[encoded data removed]"
          },
          "metadata": {}
        }
      ],
      "source": [
        "plt.plot(history)"
      ],
      "id": "N4SlSSwEVANA"
    },
    {
      "cell_type": "markdown",
      "metadata": {
        "id": "0_moqXOeVANA"
      },
      "source": [
        "Now, check the accuracy again."
      ],
      "id": "0_moqXOeVANA"
    },
    {
      "cell_type": "code",
      "execution_count": null,
      "metadata": {
        "id": "ZOXW0AsdVANB"
      },
      "outputs": [],
      "source": [],
      "id": "ZOXW0AsdVANB"
    },
    {
      "cell_type": "markdown",
      "metadata": {
        "id": "gVhkZGmaVANB"
      },
      "source": [
        "Now, check the accuracy of the model using `phat=model(XX)` of shape `[n,2]`and `Y` of shape `[n,1]`."
      ],
      "id": "gVhkZGmaVANB"
    },
    {
      "cell_type": "code",
      "execution_count": null,
      "metadata": {
        "id": "MuJOTu1RVANB"
      },
      "outputs": [],
      "source": [
        "def accuracy_ftn(phat, t):\n",
        "  yhat = torch.argmax(phat, axis=1).to(torch.float32)\n",
        "  y = torch.argmax(t, axis=1).to(torch.float32)\n",
        "  accuracy = torch.mean((y.reshape([-1])==yhat).to(torch.float32))\n",
        "  return accuracy\n"
      ],
      "id": "MuJOTu1RVANB"
    },
    {
      "cell_type": "code",
      "execution_count": null,
      "metadata": {
        "colab": {
          "base_uri": "https://localhost:8080/"
        },
        "outputId": "47d55c98-0fdb-4ba7-c673-02a1c5b2de6b",
        "id": "Cx9xmFfIVANB"
      },
      "outputs": [
        {
          "output_type": "execute_result",
          "data": {
            "text/plain": [
              "tensor(0.9684)"
            ]
          },
          "metadata": {},
          "execution_count": 47
        }
      ],
      "source": [
        "That = softmax_ftn(XX)\n",
        "accuracy = accuracy_ftn(That, T)\n",
        "accuracy"
      ],
      "id": "Cx9xmFfIVANB"
    },
    {
      "cell_type": "markdown",
      "metadata": {
        "id": "UgdtEIK7ItwQ"
      },
      "source": [
        "# 2. Multinomial logistic regression"
      ],
      "id": "UgdtEIK7ItwQ"
    },
    {
      "cell_type": "markdown",
      "metadata": {
        "id": "zb0eGVOnI0ew"
      },
      "source": [
        "## 2.1 Definition of some torch functions"
      ],
      "id": "zb0eGVOnI0ew"
    },
    {
      "cell_type": "markdown",
      "metadata": {
        "id": "fFVac6hZOd7f"
      },
      "source": [
        "### Softmax function\n",
        "\n",
        "$f$: softmax function\n",
        "\n",
        "$\n",
        "f(x_1, x_2, \\cdots, x_k) = \\frac{\\left[\\exp(x_1), \\cdots, \\exp(x_1)\\right]}{\\sum\\limits_{j=1}^{k}\\exp(x_j)}\n",
        "$"
      ],
      "id": "fFVac6hZOd7f"
    },
    {
      "cell_type": "code",
      "source": [
        "import torch\n",
        "z2 = torch.tensor([[-1.3, 1.2, 0.3],\n",
        "                   [1.0, 0.1, -0.5]])\n",
        "f2  = torch.softmax(z2, dim=0)\n",
        "f2"
      ],
      "metadata": {
        "colab": {
          "base_uri": "https://localhost:8080/"
        },
        "id": "uVreiHVNVnlc",
        "outputId": "6ebda58d-f163-4660-95e5-c5aaa5d95ebc"
      },
      "id": "uVreiHVNVnlc",
      "execution_count": null,
      "outputs": [
        {
          "output_type": "execute_result",
          "data": {
            "text/plain": [
              "tensor([[0.0911, 0.7503, 0.6900],\n",
              "        [0.9089, 0.2497, 0.3100]])"
            ]
          },
          "metadata": {},
          "execution_count": 48
        }
      ]
    },
    {
      "cell_type": "code",
      "source": [
        "z2 = torch.tensor([[-1.3, 1.2, 0.3],\n",
        "                   [1.0, 0.1, -0.5]]) #[2,3]\n",
        "q2 = torch.exp(z2) #[2,3]\n",
        "q2"
      ],
      "metadata": {
        "colab": {
          "base_uri": "https://localhost:8080/"
        },
        "id": "mwVyoycxVqEi",
        "outputId": "f987786e-077e-4130-f398-96092a0ef11f"
      },
      "id": "mwVyoycxVqEi",
      "execution_count": null,
      "outputs": [
        {
          "output_type": "execute_result",
          "data": {
            "text/plain": [
              "tensor([[0.2725, 3.3201, 1.3499],\n",
              "        [2.7183, 1.1052, 0.6065]])"
            ]
          },
          "metadata": {},
          "execution_count": 49
        }
      ]
    },
    {
      "cell_type": "code",
      "source": [
        "sum2 = torch.sum(q2, axis=1).reshape([-1, 1]) #[2, 1]\n",
        "sum2\n"
      ],
      "metadata": {
        "colab": {
          "base_uri": "https://localhost:8080/"
        },
        "id": "4FPXqoUGawMt",
        "outputId": "c5f6f150-8d54-472f-9e0e-ea41001b95cd"
      },
      "id": "4FPXqoUGawMt",
      "execution_count": null,
      "outputs": [
        {
          "output_type": "execute_result",
          "data": {
            "text/plain": [
              "tensor([[4.9425],\n",
              "        [4.4300]])"
            ]
          },
          "metadata": {},
          "execution_count": 50
        }
      ]
    },
    {
      "cell_type": "code",
      "source": [
        "q2 / sum2"
      ],
      "metadata": {
        "colab": {
          "base_uri": "https://localhost:8080/"
        },
        "id": "lszxd56fa27j",
        "outputId": "f9c28912-a8f2-4f2b-f66c-d8be9efe2483"
      },
      "id": "lszxd56fa27j",
      "execution_count": null,
      "outputs": [
        {
          "output_type": "execute_result",
          "data": {
            "text/plain": [
              "tensor([[0.0551, 0.6717, 0.2731],\n",
              "        [0.6136, 0.2495, 0.1369]])"
            ]
          },
          "metadata": {},
          "execution_count": 51
        }
      ]
    },
    {
      "cell_type": "code",
      "source": [
        "sum2 = np.sum(q2, axis=1).reshape([2,1])  #[2,]\n",
        "sum2 #[2,]  --> [2,1]"
      ],
      "metadata": {
        "colab": {
          "base_uri": "https://localhost:8080/",
          "height": 373
        },
        "id": "NUDvY-y4V4b7",
        "outputId": "7e1d3f6b-7098-4930-aaa3-45a77269f211"
      },
      "id": "NUDvY-y4V4b7",
      "execution_count": null,
      "outputs": [
        {
          "output_type": "error",
          "ename": "TypeError",
          "evalue": "sum() received an invalid combination of arguments - got (out=NoneType, axis=int, ), but expected one of:\n * (*, torch.dtype dtype = None)\n      didn't match because some of the keywords were incorrect: out, axis\n * (tuple of ints dim, bool keepdim = False, *, torch.dtype dtype = None)\n * (tuple of names dim, bool keepdim = False, *, torch.dtype dtype = None)\n",
          "traceback": [
            "\u001b[0;31m---------------------------------------------------------------------------\u001b[0m",
            "\u001b[0;31mTypeError\u001b[0m                                 Traceback (most recent call last)",
            "\u001b[0;32m<ipython-input-55-6413a1d8ba19>\u001b[0m in \u001b[0;36m<cell line: 1>\u001b[0;34m()\u001b[0m\n\u001b[0;32m----> 1\u001b[0;31m \u001b[0msum2\u001b[0m \u001b[0;34m=\u001b[0m \u001b[0mnp\u001b[0m\u001b[0;34m.\u001b[0m\u001b[0msum\u001b[0m\u001b[0;34m(\u001b[0m\u001b[0mq2\u001b[0m\u001b[0;34m,\u001b[0m \u001b[0maxis\u001b[0m\u001b[0;34m=\u001b[0m\u001b[0;36m1\u001b[0m\u001b[0;34m)\u001b[0m\u001b[0;34m.\u001b[0m\u001b[0mreshape\u001b[0m\u001b[0;34m(\u001b[0m\u001b[0;34m[\u001b[0m\u001b[0;36m2\u001b[0m\u001b[0;34m,\u001b[0m\u001b[0;36m1\u001b[0m\u001b[0;34m]\u001b[0m\u001b[0;34m)\u001b[0m  \u001b[0;31m#[2,]\u001b[0m\u001b[0;34m\u001b[0m\u001b[0;34m\u001b[0m\u001b[0m\n\u001b[0m\u001b[1;32m      2\u001b[0m \u001b[0msum2\u001b[0m \u001b[0;31m#[2,]  --> [2,1]\u001b[0m\u001b[0;34m\u001b[0m\u001b[0;34m\u001b[0m\u001b[0m\n",
            "\u001b[0;32m/usr/local/lib/python3.10/dist-packages/numpy/core/fromnumeric.py\u001b[0m in \u001b[0;36msum\u001b[0;34m(a, axis, dtype, out, keepdims, initial, where)\u001b[0m\n\u001b[1;32m   2311\u001b[0m         \u001b[0;32mreturn\u001b[0m \u001b[0mres\u001b[0m\u001b[0;34m\u001b[0m\u001b[0;34m\u001b[0m\u001b[0m\n\u001b[1;32m   2312\u001b[0m \u001b[0;34m\u001b[0m\u001b[0m\n\u001b[0;32m-> 2313\u001b[0;31m     return _wrapreduction(a, np.add, 'sum', axis, dtype, out, keepdims=keepdims,\n\u001b[0m\u001b[1;32m   2314\u001b[0m                           initial=initial, where=where)\n\u001b[1;32m   2315\u001b[0m \u001b[0;34m\u001b[0m\u001b[0m\n",
            "\u001b[0;32m/usr/local/lib/python3.10/dist-packages/numpy/core/fromnumeric.py\u001b[0m in \u001b[0;36m_wrapreduction\u001b[0;34m(obj, ufunc, method, axis, dtype, out, **kwargs)\u001b[0m\n\u001b[1;32m     84\u001b[0m                 \u001b[0;32mreturn\u001b[0m \u001b[0mreduction\u001b[0m\u001b[0;34m(\u001b[0m\u001b[0maxis\u001b[0m\u001b[0;34m=\u001b[0m\u001b[0maxis\u001b[0m\u001b[0;34m,\u001b[0m \u001b[0mdtype\u001b[0m\u001b[0;34m=\u001b[0m\u001b[0mdtype\u001b[0m\u001b[0;34m,\u001b[0m \u001b[0mout\u001b[0m\u001b[0;34m=\u001b[0m\u001b[0mout\u001b[0m\u001b[0;34m,\u001b[0m \u001b[0;34m**\u001b[0m\u001b[0mpasskwargs\u001b[0m\u001b[0;34m)\u001b[0m\u001b[0;34m\u001b[0m\u001b[0;34m\u001b[0m\u001b[0m\n\u001b[1;32m     85\u001b[0m             \u001b[0;32melse\u001b[0m\u001b[0;34m:\u001b[0m\u001b[0;34m\u001b[0m\u001b[0;34m\u001b[0m\u001b[0m\n\u001b[0;32m---> 86\u001b[0;31m                 \u001b[0;32mreturn\u001b[0m \u001b[0mreduction\u001b[0m\u001b[0;34m(\u001b[0m\u001b[0maxis\u001b[0m\u001b[0;34m=\u001b[0m\u001b[0maxis\u001b[0m\u001b[0;34m,\u001b[0m \u001b[0mout\u001b[0m\u001b[0;34m=\u001b[0m\u001b[0mout\u001b[0m\u001b[0;34m,\u001b[0m \u001b[0;34m**\u001b[0m\u001b[0mpasskwargs\u001b[0m\u001b[0;34m)\u001b[0m\u001b[0;34m\u001b[0m\u001b[0;34m\u001b[0m\u001b[0m\n\u001b[0m\u001b[1;32m     87\u001b[0m \u001b[0;34m\u001b[0m\u001b[0m\n\u001b[1;32m     88\u001b[0m     \u001b[0;32mreturn\u001b[0m \u001b[0mufunc\u001b[0m\u001b[0;34m.\u001b[0m\u001b[0mreduce\u001b[0m\u001b[0;34m(\u001b[0m\u001b[0mobj\u001b[0m\u001b[0;34m,\u001b[0m \u001b[0maxis\u001b[0m\u001b[0;34m,\u001b[0m \u001b[0mdtype\u001b[0m\u001b[0;34m,\u001b[0m \u001b[0mout\u001b[0m\u001b[0;34m,\u001b[0m \u001b[0;34m**\u001b[0m\u001b[0mpasskwargs\u001b[0m\u001b[0;34m)\u001b[0m\u001b[0;34m\u001b[0m\u001b[0;34m\u001b[0m\u001b[0m\n",
            "\u001b[0;31mTypeError\u001b[0m: sum() received an invalid combination of arguments - got (out=NoneType, axis=int, ), but expected one of:\n * (*, torch.dtype dtype = None)\n      didn't match because some of the keywords were incorrect: out, axis\n * (tuple of ints dim, bool keepdim = False, *, torch.dtype dtype = None)\n * (tuple of names dim, bool keepdim = False, *, torch.dtype dtype = None)\n"
          ]
        }
      ]
    },
    {
      "cell_type": "code",
      "source": [
        "temp2/sum2"
      ],
      "metadata": {
        "colab": {
          "base_uri": "https://localhost:8080/"
        },
        "id": "a4AsarcUXfSX",
        "outputId": "3f3819fb-0f05-4b19-9920-8a91d9ecbe6c"
      },
      "id": "a4AsarcUXfSX",
      "execution_count": null,
      "outputs": [
        {
          "output_type": "execute_result",
          "data": {
            "text/plain": [
              "array([[0.05514039, 0.67174747, 0.27311214],\n",
              "       [0.61360993, 0.24947518, 0.13691488]])"
            ]
          },
          "metadata": {},
          "execution_count": 85
        }
      ]
    },
    {
      "cell_type": "code",
      "execution_count": null,
      "metadata": {
        "colab": {
          "base_uri": "https://localhost:8080/"
        },
        "id": "uQux9kJvOgMz",
        "outputId": "8ae73c7b-cdd7-4e63-8328-34df077190f7"
      },
      "outputs": [
        {
          "output_type": "stream",
          "name": "stdout",
          "text": [
            "tensor([[0.0551, 0.6717, 0.2731]])\n",
            "tensor([[0.0551, 0.6717, 0.2731],\n",
            "        [0.6136, 0.2495, 0.1369]])\n"
          ]
        }
      ],
      "source": [
        "import torch\n",
        "z1 = torch.tensor([[-1.3, 1.2, 0.3]])\n",
        "f1  = torch.softmax(z1, dim=1)\n",
        "\n",
        "z2 = torch.tensor([[-1.3, 1.2, 0.3],\n",
        "                   [1.0, 0.1, -0.5]])\n",
        "f2  = torch.softmax(z2, dim=1)\n",
        "\n",
        "print(f1)\n",
        "print(f2)"
      ],
      "id": "uQux9kJvOgMz"
    },
    {
      "cell_type": "markdown",
      "metadata": {
        "id": "m_bKBkUXRw5G"
      },
      "source": [
        "Cross-entropy function\n",
        "\n",
        "`T`: one-hot encoding of `Y`, shape: `[n, k]`\n",
        "`z_hat`: probabilities of each class,  shape: '[n,k]'\n",
        "\n",
        "```\n",
        "Cross-entropy(z_hat, T)= - torch.mean(sum(T * log(z_hat), axis=1))\n",
        "```"
      ],
      "id": "m_bKBkUXRw5G"
    },
    {
      "cell_type": "code",
      "source": [
        "t = torch.tensor([[0.3, -0.3, 0.4]])\n",
        "temp = torch.exp(t)\n",
        "z = temp/torch.sum(temp)\n",
        "\n",
        "-torch.sum(t*torch.log(z))"
      ],
      "metadata": {
        "colab": {
          "base_uri": "https://localhost:8080/"
        },
        "id": "WlG4ajhIb-ST",
        "outputId": "c4801549-25a1-474a-be8d-213498882f22"
      },
      "id": "WlG4ajhIb-ST",
      "execution_count": null,
      "outputs": [
        {
          "output_type": "execute_result",
          "data": {
            "text/plain": [
              "tensor(0.1704)"
            ]
          },
          "metadata": {},
          "execution_count": 57
        }
      ]
    },
    {
      "cell_type": "code",
      "source": [
        "t = torch.tensor([[0.3, -0.3, 0.4]])\n",
        "z= torch.softmax(t, axis=1)\n",
        "-torch.sum(t*torch.log(z))"
      ],
      "metadata": {
        "colab": {
          "base_uri": "https://localhost:8080/"
        },
        "id": "4v3DtIZOcUO-",
        "outputId": "fd2ee44a-281a-4d6d-f17b-fba82263f1f8"
      },
      "id": "4v3DtIZOcUO-",
      "execution_count": null,
      "outputs": [
        {
          "output_type": "execute_result",
          "data": {
            "text/plain": [
              "tensor(0.1704)"
            ]
          },
          "metadata": {},
          "execution_count": 58
        }
      ]
    },
    {
      "cell_type": "code",
      "source": [
        "-torch.sum(t*torch.log(z))"
      ],
      "metadata": {
        "colab": {
          "base_uri": "https://localhost:8080/"
        },
        "id": "UpXQza1TcKpj",
        "outputId": "74983dfb-70e4-4636-b2b8-3958261e7914"
      },
      "id": "UpXQza1TcKpj",
      "execution_count": null,
      "outputs": [
        {
          "output_type": "execute_result",
          "data": {
            "text/plain": [
              "tensor(0.1704)"
            ]
          },
          "metadata": {},
          "execution_count": 119
        }
      ]
    },
    {
      "cell_type": "code",
      "execution_count": null,
      "metadata": {
        "colab": {
          "base_uri": "https://localhost:8080/"
        },
        "id": "aFAwSKefRwKu",
        "outputId": "d230d2d8-0649-4630-e5e7-6c23d9828c24"
      },
      "outputs": [
        {
          "output_type": "stream",
          "name": "stdout",
          "text": [
            "tensor(1.0331) 1.0330687599495758\n"
          ]
        }
      ],
      "source": [
        "t = torch.tensor([0.0, 0, 1])\n",
        "q = torch.tensor([0.3, 0.3, 0.4])\n",
        "loss = torch.nn.CrossEntropyLoss(reduction='mean')\n",
        "output = loss(q, t)\n",
        "\n",
        "\n",
        "print(output, -1*np.log( np.exp(0.4)/ (np.exp(0.3)+np.exp(0.3)+np.exp(0.4)) ))"
      ],
      "id": "aFAwSKefRwKu"
    },
    {
      "cell_type": "markdown",
      "metadata": {
        "id": "0ehzPggsN-cI"
      },
      "source": [
        "Note that it is also possible to have index instead of `t` as input."
      ],
      "id": "0ehzPggsN-cI"
    },
    {
      "cell_type": "code",
      "execution_count": null,
      "metadata": {
        "colab": {
          "base_uri": "https://localhost:8080/"
        },
        "id": "1x7I68ALNDXR",
        "outputId": "8110e472-0f6c-4d80-cd81-fdaf3764be7d"
      },
      "outputs": [
        {
          "data": {
            "text/plain": [
              "tensor(1.0331)"
            ]
          },
          "execution_count": 34,
          "metadata": {},
          "output_type": "execute_result"
        }
      ],
      "source": [
        "loss(q, torch.tensor(2))"
      ],
      "id": "1x7I68ALNDXR"
    },
    {
      "cell_type": "code",
      "source": [
        "\n",
        "loss = torch.nn.CrossEntropyLoss(reduction='mean')\n",
        "\n",
        "t = torch.tensor([[0.0,   0,   1],\n",
        "                  [0,     1,   0]])\n",
        "z = torch.tensor([[0.3, -0.3, 0.4],\n",
        "                  [0.5, 0.2, 0.3]])\n",
        "\n",
        "output = loss(z, t)\n",
        "output\n"
      ],
      "metadata": {
        "colab": {
          "base_uri": "https://localhost:8080/"
        },
        "id": "X06CwhUncpXM",
        "outputId": "0d6fbed7-9967-4cb2-8831-b24e774e262d"
      },
      "id": "X06CwhUncpXM",
      "execution_count": null,
      "outputs": [
        {
          "output_type": "execute_result",
          "data": {
            "text/plain": [
              "tensor(1.0579)"
            ]
          },
          "metadata": {},
          "execution_count": 139
        }
      ]
    },
    {
      "cell_type": "code",
      "source": [
        "q = torch.softmax(z, axis=1) #[2,3]\n",
        "q"
      ],
      "metadata": {
        "colab": {
          "base_uri": "https://localhost:8080/"
        },
        "id": "XEOIObUxcz_p",
        "outputId": "daec3d93-985d-4887-bc5c-0895d69f5215"
      },
      "id": "XEOIObUxcz_p",
      "execution_count": null,
      "outputs": [
        {
          "output_type": "execute_result",
          "data": {
            "text/plain": [
              "tensor([[0.3768, 0.2068, 0.4164],\n",
              "        [0.3907, 0.2894, 0.3199]])"
            ]
          },
          "metadata": {},
          "execution_count": 132
        }
      ]
    },
    {
      "cell_type": "code",
      "source": [],
      "metadata": {
        "id": "wXe0JJJYfAXB"
      },
      "id": "wXe0JJJYfAXB",
      "execution_count": null,
      "outputs": []
    },
    {
      "cell_type": "code",
      "source": [
        "temp = t * torch.log(q)"
      ],
      "metadata": {
        "id": "Pgf3g2kXdRbx"
      },
      "id": "Pgf3g2kXdRbx",
      "execution_count": null,
      "outputs": []
    },
    {
      "cell_type": "code",
      "source": [
        "temp"
      ],
      "metadata": {
        "colab": {
          "base_uri": "https://localhost:8080/"
        },
        "id": "SC8RpZT9fBmh",
        "outputId": "fbb98c1c-f91f-46b1-ade8-33f670df1152"
      },
      "id": "SC8RpZT9fBmh",
      "execution_count": null,
      "outputs": [
        {
          "output_type": "execute_result",
          "data": {
            "text/plain": [
              "tensor([[-0.0000, -0.0000, -0.8761],\n",
              "        [-0.0000, -1.2398, -0.0000]])"
            ]
          },
          "metadata": {},
          "execution_count": 135
        }
      ]
    },
    {
      "cell_type": "code",
      "source": [
        "torch.mean(-torch.sum(temp, axis=1))"
      ],
      "metadata": {
        "colab": {
          "base_uri": "https://localhost:8080/"
        },
        "id": "oRy_scOPe1c9",
        "outputId": "4f0bf92e-7d4b-465f-96ef-cb5ae83cf7a6"
      },
      "id": "oRy_scOPe1c9",
      "execution_count": null,
      "outputs": [
        {
          "output_type": "execute_result",
          "data": {
            "text/plain": [
              "tensor(1.0579)"
            ]
          },
          "metadata": {},
          "execution_count": 136
        }
      ]
    },
    {
      "cell_type": "code",
      "source": [
        "torch.sum(t * torch.log(q), axis=1)"
      ],
      "metadata": {
        "colab": {
          "base_uri": "https://localhost:8080/"
        },
        "id": "11y9yKbMdDui",
        "outputId": "4967916f-6178-46c0-efa3-00067b3eee29"
      },
      "id": "11y9yKbMdDui",
      "execution_count": null,
      "outputs": [
        {
          "output_type": "execute_result",
          "data": {
            "text/plain": [
              "tensor([-0.8761, -1.2398])"
            ]
          },
          "metadata": {},
          "execution_count": 127
        }
      ]
    },
    {
      "cell_type": "code",
      "execution_count": null,
      "metadata": {
        "colab": {
          "base_uri": "https://localhost:8080/"
        },
        "id": "DHWPDEqWSW_D",
        "outputId": "fbbdf52f-23c9-403a-e16d-810c38640b2b"
      },
      "outputs": [
        {
          "name": "stdout",
          "output_type": "stream",
          "text": [
            "1.0330687599495758 1.23983106084446\n",
            "tensor(1.1364)\n"
          ]
        }
      ],
      "source": [
        "t = torch.tensor([[0.0, 0, 1],\n",
        "                 [0, 1, 0]])\n",
        "q = torch.tensor([[0.3, 0.3, 0.4],\n",
        "                  [0.5, 0.2, 0.3]])\n",
        "loss = torch.nn.CrossEntropyLoss(reduction='mean')\n",
        "output = loss(q, t)\n",
        "\n",
        "print(-1*np.log( np.exp(0.4)/ (np.exp(0.3)+np.exp(0.3)+np.exp(0.4)) ),\n",
        "      -1*np.log( np.exp(0.2)/ (np.exp(0.5)+np.exp(0.2)+np.exp(0.3)) ))\n",
        "print(output)"
      ],
      "id": "DHWPDEqWSW_D"
    },
    {
      "cell_type": "code",
      "execution_count": null,
      "metadata": {
        "colab": {
          "base_uri": "https://localhost:8080/"
        },
        "id": "VCPaZQ-taN7M",
        "outputId": "e9a9b420-d996-4ace-b110-fc363aa6b354"
      },
      "outputs": [
        {
          "data": {
            "text/plain": [
              "1.1360000000000001"
            ]
          },
          "execution_count": 39,
          "metadata": {},
          "output_type": "execute_result"
        }
      ],
      "source": [
        "(1.033+1.239)/2"
      ],
      "id": "VCPaZQ-taN7M"
    },
    {
      "cell_type": "code",
      "execution_count": null,
      "metadata": {
        "colab": {
          "base_uri": "https://localhost:8080/"
        },
        "id": "q0gc44KIOVqu",
        "outputId": "de19e826-9f2c-4e34-9af1-b225f4dda4cf"
      },
      "outputs": [
        {
          "data": {
            "text/plain": [
              "tensor([[0.3000, 0.3000, 0.4000],\n",
              "        [0.5000, 0.2000, 0.3000]])"
            ]
          },
          "execution_count": 40,
          "metadata": {},
          "output_type": "execute_result"
        }
      ],
      "source": [
        "q"
      ],
      "id": "q0gc44KIOVqu"
    },
    {
      "cell_type": "markdown",
      "metadata": {
        "id": "Fu5EWO2dOlVd"
      },
      "source": [
        "Now, we use label instead of one-hot encoding."
      ],
      "id": "Fu5EWO2dOlVd"
    },
    {
      "cell_type": "code",
      "execution_count": null,
      "metadata": {
        "colab": {
          "base_uri": "https://localhost:8080/"
        },
        "id": "k-iZknZmzgJR",
        "outputId": "71441dea-bfad-488a-b251-dde28f61c020"
      },
      "outputs": [
        {
          "data": {
            "text/plain": [
              "tensor(1.1364)"
            ]
          },
          "execution_count": 41,
          "metadata": {},
          "output_type": "execute_result"
        }
      ],
      "source": [
        "loss(q, torch.tensor([2,1]))"
      ],
      "id": "k-iZknZmzgJR"
    },
    {
      "cell_type": "markdown",
      "metadata": {
        "id": "GqyLj8otzbul"
      },
      "source": [
        "## 2.2 Load MNIST data"
      ],
      "id": "GqyLj8otzbul"
    },
    {
      "cell_type": "code",
      "execution_count": null,
      "metadata": {
        "id": "u0z0v8tJ1yE8"
      },
      "outputs": [],
      "source": [
        "import torch\n",
        "import torchvision\n",
        "import numpy as np\n",
        "import matplotlib.pyplot as plt\n",
        "import sklearn.datasets\n",
        "import torch.nn as nn\n",
        "from torch.utils.data import Dataset, DataLoader, TensorDataset\n",
        "import pandas as pd"
      ],
      "id": "u0z0v8tJ1yE8"
    },
    {
      "cell_type": "code",
      "execution_count": null,
      "metadata": {
        "id": "d64Qxcr_xT5I"
      },
      "outputs": [],
      "source": [
        "\n",
        "\n",
        "mnist = sklearn.datasets.fetch_openml('mnist_784', data_home=\"mnist_784\")\n",
        "\n",
        "\n"
      ],
      "id": "d64Qxcr_xT5I"
    },
    {
      "cell_type": "code",
      "execution_count": null,
      "metadata": {
        "colab": {
          "base_uri": "https://localhost:8080/"
        },
        "id": "NPIsYGX4LrE5",
        "outputId": "07d06f1d-1b1a-4888-ec48-70ea7a8e8767"
      },
      "outputs": [
        {
          "output_type": "execute_result",
          "data": {
            "text/plain": [
              "dict_keys(['data', 'target', 'frame', 'categories', 'feature_names', 'target_names', 'DESCR', 'details', 'url'])"
            ]
          },
          "metadata": {},
          "execution_count": 61
        }
      ],
      "source": [
        "mnist.keys()"
      ],
      "id": "NPIsYGX4LrE5"
    },
    {
      "cell_type": "code",
      "execution_count": null,
      "metadata": {
        "colab": {
          "base_uri": "https://localhost:8080/"
        },
        "id": "hDC0EhYpqUq2",
        "outputId": "8cb899de-58ee-41c6-f776-90316385a6e0"
      },
      "outputs": [
        {
          "output_type": "execute_result",
          "data": {
            "text/plain": [
              "array([5., 0., 4., ..., 4., 5., 6.])"
            ]
          },
          "metadata": {},
          "execution_count": 65
        }
      ],
      "source": [
        "np.array(mnist[\"target\"].values).astype(np.float64)"
      ],
      "id": "hDC0EhYpqUq2"
    },
    {
      "cell_type": "code",
      "execution_count": null,
      "metadata": {
        "colab": {
          "base_uri": "https://localhost:8080/"
        },
        "id": "0Fbykd0MLZQr",
        "outputId": "880db7e4-e291-4592-eaf4-289990de36a8"
      },
      "outputs": [
        {
          "output_type": "stream",
          "name": "stdout",
          "text": [
            "torch.Size([70000, 784]) torch.Size([70000])\n"
          ]
        },
        {
          "output_type": "stream",
          "name": "stderr",
          "text": [
            "<ipython-input-67-b1f08db0a04a>:5: UserWarning: To copy construct from a tensor, it is recommended to use sourceTensor.clone().detach() or sourceTensor.clone().detach().requires_grad_(True), rather than torch.tensor(sourceTensor).\n",
            "  T = torch.nn.functional.one_hot(torch.tensor(Y, dtype=torch.int64), num_classes=10)\n",
            "<ipython-input-67-b1f08db0a04a>:6: UserWarning: To copy construct from a tensor, it is recommended to use sourceTensor.clone().detach() or sourceTensor.clone().detach().requires_grad_(True), rather than torch.tensor(sourceTensor).\n",
            "  T = torch.tensor(T, dtype=torch.float32)\n"
          ]
        }
      ],
      "source": [
        "X = torch.tensor(mnist[\"data\"].values, dtype=torch.float32).reshape([-1, 28* 28])\n",
        "Y = torch.tensor(np.array(mnist[\"target\"].values).astype(np.float64), dtype=torch.float32)\n",
        "print(X.shape, Y.shape)\n",
        "\n",
        "T = torch.nn.functional.one_hot(torch.tensor(Y, dtype=torch.int64), num_classes=10)\n",
        "T = torch.tensor(T, dtype=torch.float32)\n"
      ],
      "id": "0Fbykd0MLZQr"
    },
    {
      "cell_type": "code",
      "execution_count": null,
      "metadata": {
        "colab": {
          "base_uri": "https://localhost:8080/"
        },
        "id": "ixPz5OFrZmOE",
        "outputId": "eeafb334-1b91-45b3-9a9f-ccc4bf84c369"
      },
      "outputs": [
        {
          "output_type": "execute_result",
          "data": {
            "text/plain": [
              "torch.Size([70000, 784])"
            ]
          },
          "metadata": {},
          "execution_count": 68
        }
      ],
      "source": [
        "X.shape"
      ],
      "id": "ixPz5OFrZmOE"
    },
    {
      "cell_type": "code",
      "execution_count": null,
      "metadata": {
        "colab": {
          "base_uri": "https://localhost:8080/"
        },
        "id": "i9HRZTjkaIM4",
        "outputId": "8316f7b4-30ca-4644-fcd5-5982bee0a238"
      },
      "outputs": [
        {
          "output_type": "execute_result",
          "data": {
            "text/plain": [
              "torch.Size([70000])"
            ]
          },
          "metadata": {},
          "execution_count": 69
        }
      ],
      "source": [
        "Y.shape"
      ],
      "id": "i9HRZTjkaIM4"
    },
    {
      "cell_type": "code",
      "execution_count": null,
      "metadata": {
        "colab": {
          "base_uri": "https://localhost:8080/"
        },
        "id": "8-4WzUX87_Z6",
        "outputId": "40df0633-1bde-422f-8961-3c1fb20a1fa4"
      },
      "outputs": [
        {
          "output_type": "execute_result",
          "data": {
            "text/plain": [
              "tensor([5., 0., 4., 1., 9., 2., 1., 3., 1., 4.])"
            ]
          },
          "metadata": {},
          "execution_count": 70
        }
      ],
      "source": [
        "Y[:10]"
      ],
      "id": "8-4WzUX87_Z6"
    },
    {
      "cell_type": "code",
      "execution_count": null,
      "metadata": {
        "colab": {
          "base_uri": "https://localhost:8080/"
        },
        "id": "YCFHm2WWEzjR",
        "outputId": "526a7df4-4baf-4657-df43-79ebea9c46cb"
      },
      "outputs": [
        {
          "output_type": "execute_result",
          "data": {
            "text/plain": [
              "tensor([[0., 0., 0., 0., 0., 1., 0., 0., 0., 0.],\n",
              "        [1., 0., 0., 0., 0., 0., 0., 0., 0., 0.],\n",
              "        [0., 0., 0., 0., 1., 0., 0., 0., 0., 0.],\n",
              "        [0., 1., 0., 0., 0., 0., 0., 0., 0., 0.],\n",
              "        [0., 0., 0., 0., 0., 0., 0., 0., 0., 1.],\n",
              "        [0., 0., 1., 0., 0., 0., 0., 0., 0., 0.],\n",
              "        [0., 1., 0., 0., 0., 0., 0., 0., 0., 0.],\n",
              "        [0., 0., 0., 1., 0., 0., 0., 0., 0., 0.],\n",
              "        [0., 1., 0., 0., 0., 0., 0., 0., 0., 0.],\n",
              "        [0., 0., 0., 0., 1., 0., 0., 0., 0., 0.]])"
            ]
          },
          "metadata": {},
          "execution_count": 71
        }
      ],
      "source": [
        "T[:10]"
      ],
      "id": "YCFHm2WWEzjR"
    },
    {
      "cell_type": "code",
      "execution_count": null,
      "metadata": {
        "colab": {
          "base_uri": "https://localhost:8080/",
          "height": 447
        },
        "id": "GiU4lmQDpndK",
        "outputId": "6bf42c45-cfc5-4726-ffba-1e85bf9aed96"
      },
      "outputs": [
        {
          "output_type": "stream",
          "name": "stdout",
          "text": [
            "tensor(5.)\n"
          ]
        },
        {
          "output_type": "display_data",
          "data": {
            "text/plain": [
              "<Figure size 640x480 with 1 Axes>"
            ],
            "image/png": "[encoded data removed]"
          },
          "metadata": {}
        }
      ],
      "source": [
        "plt.imshow(X[0].reshape(28,28))\n",
        "print(Y[0])"
      ],
      "id": "GiU4lmQDpndK"
    },
    {
      "cell_type": "markdown",
      "metadata": {
        "id": "gycDo-4IaVfW"
      },
      "source": [
        "\"그림: [28.28] matrix  =  길이가 [784]인 Vector =784개의 설명변수"
      ],
      "id": "gycDo-4IaVfW"
    },
    {
      "cell_type": "code",
      "execution_count": null,
      "metadata": {
        "colab": {
          "base_uri": "https://localhost:8080/"
        },
        "id": "sUHpawbnZ96H",
        "outputId": "9925db16-6326-4967-bb16-492bb78f2942"
      },
      "outputs": [
        {
          "output_type": "execute_result",
          "data": {
            "text/plain": [
              "tensor([  0.,   0.,   0.,   0.,   0.,   0.,   0.,   0.,   0.,   0.,   0.,   0.,\n",
              "          0.,   0.,   0.,   0.,   0.,   0.,   0.,   0.,   0.,   0.,   0.,   0.,\n",
              "          0.,   0.,   0.,   0.,   0.,   0.,   0.,   0.,   0.,   0.,   0.,   0.,\n",
              "          0.,   0.,   0.,   0.,   0.,   0.,   0.,   0.,   0.,   0.,   0.,   0.,\n",
              "          0.,   0.,   0.,   0.,   0.,   0.,   0.,   0.,   0.,   0.,   0.,   0.,\n",
              "          0.,   0.,   0.,   0.,   0.,   0.,   0.,   0.,   0.,   0.,   0.,   0.,\n",
              "          0.,   0.,   0.,   0.,   0.,   0.,   0.,   0.,   0.,   0.,   0.,   0.,\n",
              "          0.,   0.,   0.,   0.,   0.,   0.,   0.,   0.,   0.,   0.,   0.,   0.,\n",
              "          0.,   0.,   0.,   0.,   0.,   0.,   0.,   0.,   0.,   0.,   0.,   0.,\n",
              "          0.,   0.,   0.,   0.,   0.,   0.,   0.,   0.,   0.,   0.,   0.,   0.,\n",
              "          0.,   0.,   0.,   0.,   0.,   0.,   0.,   0.,   0.,   0.,   0.,   0.,\n",
              "          0.,   0.,   0.,   0.,   0.,   0.,   0.,   0.,   0.,   0.,   0.,   0.,\n",
              "          0.,   0.,   0.,   0.,   0.,   0.,   0.,   0.,   3.,  18.,  18.,  18.,\n",
              "        126., 136., 175.,  26., 166., 255., 247., 127.,   0.,   0.,   0.,   0.,\n",
              "          0.,   0.,   0.,   0.,   0.,   0.,   0.,   0.,  30.,  36.,  94., 154.,\n",
              "        170., 253., 253., 253., 253., 253., 225., 172., 253., 242., 195.,  64.,\n",
              "          0.,   0.,   0.,   0.,   0.,   0.,   0.,   0.,   0.,   0.,   0.,  49.,\n",
              "        238., 253., 253., 253., 253., 253., 253., 253., 253., 251.,  93.,  82.,\n",
              "         82.,  56.,  39.,   0.,   0.,   0.,   0.,   0.,   0.,   0.,   0.,   0.,\n",
              "          0.,   0.,   0.,  18., 219., 253., 253., 253., 253., 253., 198., 182.,\n",
              "        247., 241.,   0.,   0.,   0.,   0.,   0.,   0.,   0.,   0.,   0.,   0.,\n",
              "          0.,   0.,   0.,   0.,   0.,   0.,   0.,   0.,  80., 156., 107., 253.,\n",
              "        253., 205.,  11.,   0.,  43., 154.,   0.,   0.,   0.,   0.,   0.,   0.,\n",
              "          0.,   0.,   0.,   0.,   0.,   0.,   0.,   0.,   0.,   0.,   0.,   0.,\n",
              "          0.,  14.,   1., 154., 253.,  90.,   0.,   0.,   0.,   0.,   0.,   0.,\n",
              "          0.,   0.,   0.,   0.,   0.,   0.,   0.,   0.,   0.,   0.,   0.,   0.,\n",
              "          0.,   0.,   0.,   0.,   0.,   0.,   0., 139., 253., 190.,   2.,   0.,\n",
              "          0.,   0.,   0.,   0.,   0.,   0.,   0.,   0.,   0.,   0.,   0.,   0.,\n",
              "          0.,   0.,   0.,   0.,   0.,   0.,   0.,   0.,   0.,   0.,   0.,  11.,\n",
              "        190., 253.,  70.,   0.,   0.,   0.,   0.,   0.,   0.,   0.,   0.,   0.,\n",
              "          0.,   0.,   0.,   0.,   0.,   0.,   0.,   0.,   0.,   0.,   0.,   0.,\n",
              "          0.,   0.,   0.,   0.,  35., 241., 225., 160., 108.,   1.,   0.,   0.,\n",
              "          0.,   0.,   0.,   0.,   0.,   0.,   0.,   0.,   0.,   0.,   0.,   0.,\n",
              "          0.,   0.,   0.,   0.,   0.,   0.,   0.,   0.,   0.,  81., 240., 253.,\n",
              "        253., 119.,  25.,   0.,   0.,   0.,   0.,   0.,   0.,   0.,   0.,   0.,\n",
              "          0.,   0.,   0.,   0.,   0.,   0.,   0.,   0.,   0.,   0.,   0.,   0.,\n",
              "          0.,   0.,  45., 186., 253., 253., 150.,  27.,   0.,   0.,   0.,   0.,\n",
              "          0.,   0.,   0.,   0.,   0.,   0.,   0.,   0.,   0.,   0.,   0.,   0.,\n",
              "          0.,   0.,   0.,   0.,   0.,   0.,   0.,  16.,  93., 252., 253., 187.,\n",
              "          0.,   0.,   0.,   0.,   0.,   0.,   0.,   0.,   0.,   0.,   0.,   0.,\n",
              "          0.,   0.,   0.,   0.,   0.,   0.,   0.,   0.,   0.,   0.,   0.,   0.,\n",
              "          0., 249., 253., 249.,  64.,   0.,   0.,   0.,   0.,   0.,   0.,   0.,\n",
              "          0.,   0.,   0.,   0.,   0.,   0.,   0.,   0.,   0.,   0.,   0.,   0.,\n",
              "          0.,   0.,  46., 130., 183., 253., 253., 207.,   2.,   0.,   0.,   0.,\n",
              "          0.,   0.,   0.,   0.,   0.,   0.,   0.,   0.,   0.,   0.,   0.,   0.,\n",
              "          0.,   0.,   0.,   0.,  39., 148., 229., 253., 253., 253., 250., 182.,\n",
              "          0.,   0.,   0.,   0.,   0.,   0.,   0.,   0.,   0.,   0.,   0.,   0.,\n",
              "          0.,   0.,   0.,   0.,   0.,   0.,  24., 114., 221., 253., 253., 253.,\n",
              "        253., 201.,  78.,   0.,   0.,   0.,   0.,   0.,   0.,   0.,   0.,   0.,\n",
              "          0.,   0.,   0.,   0.,   0.,   0.,   0.,   0.,  23.,  66., 213., 253.,\n",
              "        253., 253., 253., 198.,  81.,   2.,   0.,   0.,   0.,   0.,   0.,   0.,\n",
              "          0.,   0.,   0.,   0.,   0.,   0.,   0.,   0.,   0.,   0.,  18., 171.,\n",
              "        219., 253., 253., 253., 253., 195.,  80.,   9.,   0.,   0.,   0.,   0.,\n",
              "          0.,   0.,   0.,   0.,   0.,   0.,   0.,   0.,   0.,   0.,   0.,   0.,\n",
              "         55., 172., 226., 253., 253., 253., 253., 244., 133.,  11.,   0.,   0.,\n",
              "          0.,   0.,   0.,   0.,   0.,   0.,   0.,   0.,   0.,   0.,   0.,   0.,\n",
              "          0.,   0.,   0.,   0., 136., 253., 253., 253., 212., 135., 132.,  16.,\n",
              "          0.,   0.,   0.,   0.,   0.,   0.,   0.,   0.,   0.,   0.,   0.,   0.,\n",
              "          0.,   0.,   0.,   0.,   0.,   0.,   0.,   0.,   0.,   0.,   0.,   0.,\n",
              "          0.,   0.,   0.,   0.,   0.,   0.,   0.,   0.,   0.,   0.,   0.,   0.,\n",
              "          0.,   0.,   0.,   0.,   0.,   0.,   0.,   0.,   0.,   0.,   0.,   0.,\n",
              "          0.,   0.,   0.,   0.,   0.,   0.,   0.,   0.,   0.,   0.,   0.,   0.,\n",
              "          0.,   0.,   0.,   0.,   0.,   0.,   0.,   0.,   0.,   0.,   0.,   0.,\n",
              "          0.,   0.,   0.,   0.,   0.,   0.,   0.,   0.,   0.,   0.,   0.,   0.,\n",
              "          0.,   0.,   0.,   0.,   0.,   0.,   0.,   0.,   0.,   0.,   0.,   0.,\n",
              "          0.,   0.,   0.,   0.])"
            ]
          },
          "metadata": {},
          "execution_count": 73
        }
      ],
      "source": [
        "X[0]"
      ],
      "id": "sUHpawbnZ96H"
    },
    {
      "cell_type": "code",
      "execution_count": null,
      "metadata": {
        "colab": {
          "base_uri": "https://localhost:8080/"
        },
        "id": "KeAOZe16MTUG",
        "outputId": "68d5075f-f041-487d-886e-930101106688"
      },
      "outputs": [
        {
          "output_type": "stream",
          "name": "stderr",
          "text": [
            "<ipython-input-74-fd234ed319a3>:1: UserWarning: To copy construct from a tensor, it is recommended to use sourceTensor.clone().detach() or sourceTensor.clone().detach().requires_grad_(True), rather than torch.tensor(sourceTensor).\n",
            "  x_train = torch.tensor(X[:60000, :]/255, dtype = torch.float32)\n",
            "<ipython-input-74-fd234ed319a3>:2: UserWarning: To copy construct from a tensor, it is recommended to use sourceTensor.clone().detach() or sourceTensor.clone().detach().requires_grad_(True), rather than torch.tensor(sourceTensor).\n",
            "  y_train = torch.tensor(Y[:60000], dtype = torch.float32)\n",
            "<ipython-input-74-fd234ed319a3>:3: UserWarning: To copy construct from a tensor, it is recommended to use sourceTensor.clone().detach() or sourceTensor.clone().detach().requires_grad_(True), rather than torch.tensor(sourceTensor).\n",
            "  t_train = torch.tensor(T[:60000], dtype = torch.float32)\n",
            "<ipython-input-74-fd234ed319a3>:5: UserWarning: To copy construct from a tensor, it is recommended to use sourceTensor.clone().detach() or sourceTensor.clone().detach().requires_grad_(True), rather than torch.tensor(sourceTensor).\n",
            "  x_test = torch.tensor(X[60000:, :]/255, dtype = torch.float32)\n",
            "<ipython-input-74-fd234ed319a3>:6: UserWarning: To copy construct from a tensor, it is recommended to use sourceTensor.clone().detach() or sourceTensor.clone().detach().requires_grad_(True), rather than torch.tensor(sourceTensor).\n",
            "  y_test = torch.tensor(Y[60000:], dtype = torch.float32)\n",
            "<ipython-input-74-fd234ed319a3>:7: UserWarning: To copy construct from a tensor, it is recommended to use sourceTensor.clone().detach() or sourceTensor.clone().detach().requires_grad_(True), rather than torch.tensor(sourceTensor).\n",
            "  t_test = torch.tensor(T[60000:], dtype = torch.float32)\n"
          ]
        }
      ],
      "source": [
        "x_train = torch.tensor(X[:60000, :]/255, dtype = torch.float32)\n",
        "y_train = torch.tensor(Y[:60000], dtype = torch.float32)\n",
        "t_train = torch.tensor(T[:60000], dtype = torch.float32)\n",
        "n=60000\n",
        "x_test = torch.tensor(X[60000:, :]/255, dtype = torch.float32)\n",
        "y_test = torch.tensor(Y[60000:], dtype = torch.float32)\n",
        "t_test = torch.tensor(T[60000:], dtype = torch.float32)"
      ],
      "id": "KeAOZe16MTUG"
    },
    {
      "cell_type": "code",
      "execution_count": null,
      "metadata": {
        "colab": {
          "base_uri": "https://localhost:8080/"
        },
        "id": "7Bcaraqk9hAL",
        "outputId": "e508ad7b-8a25-4492-a61a-b7095d1f2642"
      },
      "outputs": [
        {
          "output_type": "execute_result",
          "data": {
            "text/plain": [
              "torch.Size([70000, 784])"
            ]
          },
          "metadata": {},
          "execution_count": 75
        }
      ],
      "source": [
        "X.shape"
      ],
      "id": "7Bcaraqk9hAL"
    },
    {
      "cell_type": "code",
      "execution_count": null,
      "metadata": {
        "id": "0XR9YgM6JYYy"
      },
      "outputs": [],
      "source": [
        "traindata = TensorDataset(x_train, t_train)\n",
        "trainloader=DataLoader(dataset = traindata, batch_size=32, shuffle=True)\n",
        "testdata = TensorDataset(x_test, t_test)\n",
        "testloader=DataLoader(dataset = testdata, batch_size=32, shuffle=True)"
      ],
      "id": "0XR9YgM6JYYy"
    },
    {
      "cell_type": "code",
      "execution_count": null,
      "metadata": {
        "id": "LksePYw3LpbA"
      },
      "outputs": [],
      "source": [],
      "id": "LksePYw3LpbA"
    },
    {
      "cell_type": "markdown",
      "metadata": {
        "id": "CISz4_3ZLs2o"
      },
      "source": [
        "## 2.3 Multinomial logistic regression for MNIST data"
      ],
      "id": "CISz4_3ZLs2o"
    },
    {
      "cell_type": "code",
      "execution_count": null,
      "metadata": {
        "colab": {
          "background_save": true
        },
        "id": "DzuKILXsj6mI"
      },
      "outputs": [],
      "source": [],
      "id": "DzuKILXsj6mI"
    },
    {
      "cell_type": "markdown",
      "metadata": {
        "id": "a0yXFF85j67q"
      },
      "source": [
        "## Example 2.3.1 MNIST data and multinomial logistic regression\n",
        "\n",
        "Train MNIST using basic torch function."
      ],
      "id": "a0yXFF85j67q"
    },
    {
      "cell_type": "code",
      "execution_count": null,
      "metadata": {
        "colab": {
          "background_save": true
        },
        "id": "c1G6v34IkCB8"
      },
      "outputs": [],
      "source": [],
      "id": "c1G6v34IkCB8"
    },
    {
      "cell_type": "code",
      "execution_count": null,
      "metadata": {
        "colab": {
          "base_uri": "https://localhost:8080/",
          "height": 356
        },
        "id": "CWgYQQKOkCLA",
        "outputId": "3c1a7af2-38a4-438a-e83a-1657464ac8d7"
      },
      "outputs": [
        {
          "output_type": "error",
          "ename": "KeyboardInterrupt",
          "evalue": "",
          "traceback": [
            "\u001b[0;31m---------------------------------------------------------------------------\u001b[0m",
            "\u001b[0;31mKeyboardInterrupt\u001b[0m                         Traceback (most recent call last)",
            "\u001b[0;32m<ipython-input-127-8282e2a8df26>\u001b[0m in \u001b[0;36m<cell line: 11>\u001b[0;34m()\u001b[0m\n\u001b[1;32m     11\u001b[0m \u001b[0;32mfor\u001b[0m \u001b[0mepoch\u001b[0m \u001b[0;32min\u001b[0m \u001b[0mrange\u001b[0m\u001b[0;34m(\u001b[0m\u001b[0mepochs\u001b[0m\u001b[0;34m)\u001b[0m\u001b[0;34m:\u001b[0m\u001b[0;34m\u001b[0m\u001b[0;34m\u001b[0m\u001b[0m\n\u001b[1;32m     12\u001b[0m   \u001b[0mepoch_loss\u001b[0m \u001b[0;34m=\u001b[0m \u001b[0;36m0.0\u001b[0m\u001b[0;34m\u001b[0m\u001b[0;34m\u001b[0m\u001b[0m\n\u001b[0;32m---> 13\u001b[0;31m   \u001b[0;32mfor\u001b[0m \u001b[0mxx\u001b[0m\u001b[0;34m,\u001b[0m \u001b[0mtt\u001b[0m \u001b[0;32min\u001b[0m \u001b[0mtrainloader\u001b[0m\u001b[0;34m:\u001b[0m\u001b[0;34m\u001b[0m\u001b[0;34m\u001b[0m\u001b[0m\n\u001b[0m\u001b[1;32m     14\u001b[0m     \u001b[0mzhat\u001b[0m \u001b[0;34m=\u001b[0m \u001b[0mz_model\u001b[0m\u001b[0;34m(\u001b[0m\u001b[0mxx\u001b[0m\u001b[0;34m)\u001b[0m\u001b[0;34m\u001b[0m\u001b[0;34m\u001b[0m\u001b[0m\n\u001b[1;32m     15\u001b[0m     \u001b[0mqhat\u001b[0m \u001b[0;34m=\u001b[0m \u001b[0mtorch\u001b[0m\u001b[0;34m.\u001b[0m\u001b[0msoftmax\u001b[0m\u001b[0;34m(\u001b[0m\u001b[0mzhat\u001b[0m\u001b[0;34m,\u001b[0m \u001b[0mdim\u001b[0m\u001b[0;34m=\u001b[0m\u001b[0;36m1\u001b[0m\u001b[0;34m)\u001b[0m\u001b[0;34m\u001b[0m\u001b[0;34m\u001b[0m\u001b[0m\n",
            "\u001b[0;32m/usr/local/lib/python3.10/dist-packages/torch/utils/data/dataloader.py\u001b[0m in \u001b[0;36m__next__\u001b[0;34m(self)\u001b[0m\n\u001b[1;32m    699\u001b[0m                 \u001b[0;31m# TODO(https://github.com/pytorch/pytorch/issues/76750)\u001b[0m\u001b[0;34m\u001b[0m\u001b[0;34m\u001b[0m\u001b[0m\n\u001b[1;32m    700\u001b[0m                 \u001b[0mself\u001b[0m\u001b[0;34m.\u001b[0m\u001b[0m_reset\u001b[0m\u001b[0;34m(\u001b[0m\u001b[0;34m)\u001b[0m  \u001b[0;31m# type: ignore[call-arg]\u001b[0m\u001b[0;34m\u001b[0m\u001b[0;34m\u001b[0m\u001b[0m\n\u001b[0;32m--> 701\u001b[0;31m             \u001b[0mdata\u001b[0m \u001b[0;34m=\u001b[0m \u001b[0mself\u001b[0m\u001b[0;34m.\u001b[0m\u001b[0m_next_data\u001b[0m\u001b[0;34m(\u001b[0m\u001b[0;34m)\u001b[0m\u001b[0;34m\u001b[0m\u001b[0;34m\u001b[0m\u001b[0m\n\u001b[0m\u001b[1;32m    702\u001b[0m             \u001b[0mself\u001b[0m\u001b[0;34m.\u001b[0m\u001b[0m_num_yielded\u001b[0m \u001b[0;34m+=\u001b[0m \u001b[0;36m1\u001b[0m\u001b[0;34m\u001b[0m\u001b[0;34m\u001b[0m\u001b[0m\n\u001b[1;32m    703\u001b[0m             if (\n",
            "\u001b[0;32m/usr/local/lib/python3.10/dist-packages/torch/utils/data/dataloader.py\u001b[0m in \u001b[0;36m_next_data\u001b[0;34m(self)\u001b[0m\n\u001b[1;32m    755\u001b[0m     \u001b[0;32mdef\u001b[0m \u001b[0m_next_data\u001b[0m\u001b[0;34m(\u001b[0m\u001b[0mself\u001b[0m\u001b[0;34m)\u001b[0m\u001b[0;34m:\u001b[0m\u001b[0;34m\u001b[0m\u001b[0;34m\u001b[0m\u001b[0m\n\u001b[1;32m    756\u001b[0m         \u001b[0mindex\u001b[0m \u001b[0;34m=\u001b[0m \u001b[0mself\u001b[0m\u001b[0;34m.\u001b[0m\u001b[0m_next_index\u001b[0m\u001b[0;34m(\u001b[0m\u001b[0;34m)\u001b[0m  \u001b[0;31m# may raise StopIteration\u001b[0m\u001b[0;34m\u001b[0m\u001b[0;34m\u001b[0m\u001b[0m\n\u001b[0;32m--> 757\u001b[0;31m         \u001b[0mdata\u001b[0m \u001b[0;34m=\u001b[0m \u001b[0mself\u001b[0m\u001b[0;34m.\u001b[0m\u001b[0m_dataset_fetcher\u001b[0m\u001b[0;34m.\u001b[0m\u001b[0mfetch\u001b[0m\u001b[0;34m(\u001b[0m\u001b[0mindex\u001b[0m\u001b[0;34m)\u001b[0m  \u001b[0;31m# may raise StopIteration\u001b[0m\u001b[0;34m\u001b[0m\u001b[0;34m\u001b[0m\u001b[0m\n\u001b[0m\u001b[1;32m    758\u001b[0m         \u001b[0;32mif\u001b[0m \u001b[0mself\u001b[0m\u001b[0;34m.\u001b[0m\u001b[0m_pin_memory\u001b[0m\u001b[0;34m:\u001b[0m\u001b[0;34m\u001b[0m\u001b[0;34m\u001b[0m\u001b[0m\n\u001b[1;32m    759\u001b[0m             \u001b[0mdata\u001b[0m \u001b[0;34m=\u001b[0m \u001b[0m_utils\u001b[0m\u001b[0;34m.\u001b[0m\u001b[0mpin_memory\u001b[0m\u001b[0;34m.\u001b[0m\u001b[0mpin_memory\u001b[0m\u001b[0;34m(\u001b[0m\u001b[0mdata\u001b[0m\u001b[0;34m,\u001b[0m \u001b[0mself\u001b[0m\u001b[0;34m.\u001b[0m\u001b[0m_pin_memory_device\u001b[0m\u001b[0;34m)\u001b[0m\u001b[0;34m\u001b[0m\u001b[0;34m\u001b[0m\u001b[0m\n",
            "\u001b[0;32m/usr/local/lib/python3.10/dist-packages/torch/utils/data/_utils/fetch.py\u001b[0m in \u001b[0;36mfetch\u001b[0;34m(self, possibly_batched_index)\u001b[0m\n\u001b[1;32m     50\u001b[0m                 \u001b[0mdata\u001b[0m \u001b[0;34m=\u001b[0m \u001b[0mself\u001b[0m\u001b[0;34m.\u001b[0m\u001b[0mdataset\u001b[0m\u001b[0;34m.\u001b[0m\u001b[0m__getitems__\u001b[0m\u001b[0;34m(\u001b[0m\u001b[0mpossibly_batched_index\u001b[0m\u001b[0;34m)\u001b[0m\u001b[0;34m\u001b[0m\u001b[0;34m\u001b[0m\u001b[0m\n\u001b[1;32m     51\u001b[0m             \u001b[0;32melse\u001b[0m\u001b[0;34m:\u001b[0m\u001b[0;34m\u001b[0m\u001b[0;34m\u001b[0m\u001b[0m\n\u001b[0;32m---> 52\u001b[0;31m                 \u001b[0mdata\u001b[0m \u001b[0;34m=\u001b[0m \u001b[0;34m[\u001b[0m\u001b[0mself\u001b[0m\u001b[0;34m.\u001b[0m\u001b[0mdataset\u001b[0m\u001b[0;34m[\u001b[0m\u001b[0midx\u001b[0m\u001b[0;34m]\u001b[0m \u001b[0;32mfor\u001b[0m \u001b[0midx\u001b[0m \u001b[0;32min\u001b[0m \u001b[0mpossibly_batched_index\u001b[0m\u001b[0;34m]\u001b[0m\u001b[0;34m\u001b[0m\u001b[0;34m\u001b[0m\u001b[0m\n\u001b[0m\u001b[1;32m     53\u001b[0m         \u001b[0;32melse\u001b[0m\u001b[0;34m:\u001b[0m\u001b[0;34m\u001b[0m\u001b[0;34m\u001b[0m\u001b[0m\n\u001b[1;32m     54\u001b[0m             \u001b[0mdata\u001b[0m \u001b[0;34m=\u001b[0m \u001b[0mself\u001b[0m\u001b[0;34m.\u001b[0m\u001b[0mdataset\u001b[0m\u001b[0;34m[\u001b[0m\u001b[0mpossibly_batched_index\u001b[0m\u001b[0;34m]\u001b[0m\u001b[0;34m\u001b[0m\u001b[0;34m\u001b[0m\u001b[0m\n",
            "\u001b[0;32m/usr/local/lib/python3.10/dist-packages/torch/utils/data/_utils/fetch.py\u001b[0m in \u001b[0;36m<listcomp>\u001b[0;34m(.0)\u001b[0m\n\u001b[1;32m     50\u001b[0m                 \u001b[0mdata\u001b[0m \u001b[0;34m=\u001b[0m \u001b[0mself\u001b[0m\u001b[0;34m.\u001b[0m\u001b[0mdataset\u001b[0m\u001b[0;34m.\u001b[0m\u001b[0m__getitems__\u001b[0m\u001b[0;34m(\u001b[0m\u001b[0mpossibly_batched_index\u001b[0m\u001b[0;34m)\u001b[0m\u001b[0;34m\u001b[0m\u001b[0;34m\u001b[0m\u001b[0m\n\u001b[1;32m     51\u001b[0m             \u001b[0;32melse\u001b[0m\u001b[0;34m:\u001b[0m\u001b[0;34m\u001b[0m\u001b[0;34m\u001b[0m\u001b[0m\n\u001b[0;32m---> 52\u001b[0;31m                 \u001b[0mdata\u001b[0m \u001b[0;34m=\u001b[0m \u001b[0;34m[\u001b[0m\u001b[0mself\u001b[0m\u001b[0;34m.\u001b[0m\u001b[0mdataset\u001b[0m\u001b[0;34m[\u001b[0m\u001b[0midx\u001b[0m\u001b[0;34m]\u001b[0m \u001b[0;32mfor\u001b[0m \u001b[0midx\u001b[0m \u001b[0;32min\u001b[0m \u001b[0mpossibly_batched_index\u001b[0m\u001b[0;34m]\u001b[0m\u001b[0;34m\u001b[0m\u001b[0;34m\u001b[0m\u001b[0m\n\u001b[0m\u001b[1;32m     53\u001b[0m         \u001b[0;32melse\u001b[0m\u001b[0;34m:\u001b[0m\u001b[0;34m\u001b[0m\u001b[0;34m\u001b[0m\u001b[0m\n\u001b[1;32m     54\u001b[0m             \u001b[0mdata\u001b[0m \u001b[0;34m=\u001b[0m \u001b[0mself\u001b[0m\u001b[0;34m.\u001b[0m\u001b[0mdataset\u001b[0m\u001b[0;34m[\u001b[0m\u001b[0mpossibly_batched_index\u001b[0m\u001b[0;34m]\u001b[0m\u001b[0;34m\u001b[0m\u001b[0;34m\u001b[0m\u001b[0m\n",
            "\u001b[0;32m/usr/local/lib/python3.10/dist-packages/torch/utils/data/dataset.py\u001b[0m in \u001b[0;36m__getitem__\u001b[0;34m(self, index)\u001b[0m\n\u001b[1;32m    209\u001b[0m \u001b[0;34m\u001b[0m\u001b[0m\n\u001b[1;32m    210\u001b[0m     \u001b[0;32mdef\u001b[0m \u001b[0m__getitem__\u001b[0m\u001b[0;34m(\u001b[0m\u001b[0mself\u001b[0m\u001b[0;34m,\u001b[0m \u001b[0mindex\u001b[0m\u001b[0;34m)\u001b[0m\u001b[0;34m:\u001b[0m\u001b[0;34m\u001b[0m\u001b[0;34m\u001b[0m\u001b[0m\n\u001b[0;32m--> 211\u001b[0;31m         \u001b[0;32mreturn\u001b[0m \u001b[0mtuple\u001b[0m\u001b[0;34m(\u001b[0m\u001b[0mtensor\u001b[0m\u001b[0;34m[\u001b[0m\u001b[0mindex\u001b[0m\u001b[0;34m]\u001b[0m \u001b[0;32mfor\u001b[0m \u001b[0mtensor\u001b[0m \u001b[0;32min\u001b[0m \u001b[0mself\u001b[0m\u001b[0;34m.\u001b[0m\u001b[0mtensors\u001b[0m\u001b[0;34m)\u001b[0m\u001b[0;34m\u001b[0m\u001b[0;34m\u001b[0m\u001b[0m\n\u001b[0m\u001b[1;32m    212\u001b[0m \u001b[0;34m\u001b[0m\u001b[0m\n\u001b[1;32m    213\u001b[0m     \u001b[0;32mdef\u001b[0m \u001b[0m__len__\u001b[0m\u001b[0;34m(\u001b[0m\u001b[0mself\u001b[0m\u001b[0;34m)\u001b[0m\u001b[0;34m:\u001b[0m\u001b[0;34m\u001b[0m\u001b[0;34m\u001b[0m\u001b[0m\n",
            "\u001b[0;32m/usr/local/lib/python3.10/dist-packages/torch/utils/data/dataset.py\u001b[0m in \u001b[0;36m<genexpr>\u001b[0;34m(.0)\u001b[0m\n\u001b[1;32m    209\u001b[0m \u001b[0;34m\u001b[0m\u001b[0m\n\u001b[1;32m    210\u001b[0m     \u001b[0;32mdef\u001b[0m \u001b[0m__getitem__\u001b[0m\u001b[0;34m(\u001b[0m\u001b[0mself\u001b[0m\u001b[0;34m,\u001b[0m \u001b[0mindex\u001b[0m\u001b[0;34m)\u001b[0m\u001b[0;34m:\u001b[0m\u001b[0;34m\u001b[0m\u001b[0;34m\u001b[0m\u001b[0m\n\u001b[0;32m--> 211\u001b[0;31m         \u001b[0;32mreturn\u001b[0m \u001b[0mtuple\u001b[0m\u001b[0;34m(\u001b[0m\u001b[0mtensor\u001b[0m\u001b[0;34m[\u001b[0m\u001b[0mindex\u001b[0m\u001b[0;34m]\u001b[0m \u001b[0;32mfor\u001b[0m \u001b[0mtensor\u001b[0m \u001b[0;32min\u001b[0m \u001b[0mself\u001b[0m\u001b[0;34m.\u001b[0m\u001b[0mtensors\u001b[0m\u001b[0;34m)\u001b[0m\u001b[0;34m\u001b[0m\u001b[0;34m\u001b[0m\u001b[0m\n\u001b[0m\u001b[1;32m    212\u001b[0m \u001b[0;34m\u001b[0m\u001b[0m\n\u001b[1;32m    213\u001b[0m     \u001b[0;32mdef\u001b[0m \u001b[0m__len__\u001b[0m\u001b[0;34m(\u001b[0m\u001b[0mself\u001b[0m\u001b[0;34m)\u001b[0m\u001b[0;34m:\u001b[0m\u001b[0;34m\u001b[0m\u001b[0;34m\u001b[0m\u001b[0m\n",
            "\u001b[0;31mKeyboardInterrupt\u001b[0m: "
          ]
        }
      ],
      "source": [
        "z_model = nn.Linear(784, 10, bias=True)\n",
        "\n",
        "def loss_fn(qhat, t):\n",
        "  loss = - torch.mean(torch.sum(t * torch.log(qhat), axis=1))\n",
        "  return loss\n",
        "\n",
        "optimizer = torch.optim.SGD(z_model.parameters(), lr=0.01)\n",
        "history=[]\n",
        "epochs = 30\n",
        "\n",
        "for epoch in range(epochs):\n",
        "  epoch_loss = 0.0\n",
        "  for xx, tt in trainloader:\n",
        "    zhat = z_model(xx)\n",
        "    qhat = torch.softmax(zhat, dim=1)\n",
        "    loss = loss_fn(qhat, tt)\n",
        "    loss.backward()\n",
        "    epoch_loss += loss.item()*len(xx)\n",
        "    optimizer.step()\n",
        "    optimizer.zero_grad()\n",
        "  history.append(epoch_loss/n)\n",
        "plt.plot(history)"
      ],
      "id": "CWgYQQKOkCLA"
    },
    {
      "cell_type": "markdown",
      "metadata": {
        "id": "GeOcdbuakCLB"
      },
      "source": [
        "Now, check the accuracy of the model using `phat=model(XX)` of shape `[n,2]`and `Y` of shape `[n,1]`."
      ],
      "id": "GeOcdbuakCLB"
    },
    {
      "cell_type": "code",
      "execution_count": null,
      "metadata": {
        "id": "bQKW57HOkCLB"
      },
      "outputs": [],
      "source": [
        "def accuracy_ftn(qhat, t):\n",
        "  yhat = torch.argmax(qhat, axis=1).to(torch.float32)\n",
        "  y = torch.argmax(t, axis=1).to(torch.float32)\n",
        "  accuracy = torch.mean((y==yhat).to(torch.float32))\n",
        "  return accuracy\n"
      ],
      "id": "bQKW57HOkCLB"
    },
    {
      "cell_type": "code",
      "execution_count": null,
      "metadata": {
        "colab": {
          "base_uri": "https://localhost:8080/"
        },
        "id": "x2yjvy-bkCLB",
        "outputId": "8f946309-6139-4bb6-fafc-a6717dabb089"
      },
      "outputs": [
        {
          "output_type": "execute_result",
          "data": {
            "text/plain": [
              "tensor(0.9218)"
            ]
          },
          "metadata": {},
          "execution_count": 57
        }
      ],
      "source": [
        "zhat = z_model(x_test)\n",
        "qhat = torch.softmax(zhat, dim=1)\n",
        "accuracy = accuracy_ftn(qhat, t_test)\n",
        "accuracy"
      ],
      "id": "x2yjvy-bkCLB"
    },
    {
      "cell_type": "markdown",
      "metadata": {
        "id": "1A3SYiYRk_vR"
      },
      "source": [
        "## Example 2.3.2 MNIST data and multinomial logistic regression\n",
        "\n",
        "Repeat the above training process using `nn.CrossEntropyLoss()` function."
      ],
      "id": "1A3SYiYRk_vR"
    },
    {
      "cell_type": "code",
      "source": [
        "z_model = nn.Linear(784, 10, bias=True) #X:[n, 784] #name changed\n",
        "\n",
        "loss_fn = torch.nn.CrossEntropyLoss(reduction='mean')# This is the only change\n",
        "\n",
        "optimizer = torch.optim.SGD(z_model.parameters(), lr=0.01)\n",
        "history=[]\n",
        "epochs = 10\n",
        "\n",
        "for epoch in range(epochs):\n",
        "  epoch_loss = 0.0\n",
        "  for xx, tt in trainloader:\n",
        "    zhat = z_model(xx)\n",
        "    loss = loss_fn(zhat, tt)\n",
        "    loss.backward()\n",
        "    epoch_loss += loss.item()*len(xx)\n",
        "    optimizer.step()\n",
        "    optimizer.zero_grad()\n",
        "  history.append(epoch_loss/n)\n",
        "plt.plot(history)"
      ],
      "metadata": {
        "colab": {
          "base_uri": "https://localhost:8080/",
          "height": 880
        },
        "id": "xi8yE784ghJv",
        "outputId": "13dced94-f47d-4151-d860-3b022d7ac3ba"
      },
      "id": "xi8yE784ghJv",
      "execution_count": null,
      "outputs": [
        {
          "output_type": "execute_result",
          "data": {
            "text/plain": [
              "[<matplotlib.lines.Line2D at 0x7bf0be5189d0>]"
            ]
          },
          "metadata": {},
          "execution_count": 154
        },
        {
          "output_type": "display_data",
          "data": {
            "text/plain": [
              "<Figure size 640x480 with 1 Axes>"
            ],
            "image/png": "[encoded data removed]"
          },
          "metadata": {}
        },
        {
          "output_type": "execute_result",
          "data": {
            "text/plain": [
              "[<matplotlib.lines.Line2D at 0x7bf0bfd2b9d0>]"
            ]
          },
          "metadata": {},
          "execution_count": 155
        },
        {
          "output_type": "display_data",
          "data": {
            "text/plain": [
              "<Figure size 640x480 with 1 Axes>"
            ],
            "image/png": "[encoded data removed]"
          },
          "metadata": {}
        }
      ]
    },
    {
      "cell_type": "code",
      "source": [
        "zhat_test = z_model(x_test)\n",
        "Q_test = torch.softmax(zhat_test, axis=1)\n",
        "#y_test\n",
        "y_hat = torch.argmax(Q_test, axis=1).to(torch.float32)\n",
        "\n",
        "torch.mean((y_hat ==y_test.reshape([-1])).to(torch.float32))\n"
      ],
      "metadata": {
        "colab": {
          "base_uri": "https://localhost:8080/"
        },
        "id": "O5Lj_0l6iDWm",
        "outputId": "f17b944b-38e4-4c5e-e211-71db7fb84c3c"
      },
      "id": "O5Lj_0l6iDWm",
      "execution_count": null,
      "outputs": [
        {
          "output_type": "execute_result",
          "data": {
            "text/plain": [
              "tensor(0.9160)"
            ]
          },
          "metadata": {},
          "execution_count": 157
        }
      ]
    },
    {
      "cell_type": "code",
      "execution_count": null,
      "metadata": {
        "colab": {
          "background_save": true
        },
        "id": "ibKycACJLpYw"
      },
      "outputs": [],
      "source": [],
      "id": "ibKycACJLpYw"
    },
    {
      "cell_type": "markdown",
      "metadata": {
        "id": "vt77_VeQPMcM"
      },
      "source": [
        "Now, check the accuracy of the model using `phat=model(XX)` of shape `[n,2]`and `Y` of shape `[n,1]`."
      ],
      "id": "vt77_VeQPMcM"
    },
    {
      "cell_type": "code",
      "execution_count": null,
      "metadata": {
        "colab": {
          "background_save": true
        },
        "id": "-Vy93k0qPMcM"
      },
      "outputs": [],
      "source": [
        "def accuracy_ftn(phat, t):\n",
        "  yhat = torch.argmax(phat, axis=1).to(torch.float32)\n",
        "  y = torch.argmax(t, axis=1).to(torch.float32)\n",
        "  accuracy = torch.mean((y.reshape([-1])==yhat).to(torch.float32))\n",
        "  return accuracy\n"
      ],
      "id": "-Vy93k0qPMcM"
    },
    {
      "cell_type": "code",
      "execution_count": null,
      "metadata": {
        "colab": {
          "background_save": true
        },
        "id": "D-9a6XOoPMcN",
        "outputId": "c0f5df87-568b-48ad-e23c-323fa46ccbad"
      },
      "outputs": [
        {
          "data": {
            "text/plain": [
              "tensor(0.9154)"
            ]
          },
          "execution_count": 61,
          "metadata": {},
          "output_type": "execute_result"
        }
      ],
      "source": [
        "phat = torch.softmax(z_model(x_test), axis=1)\n",
        "accuracy = accuracy_ftn(phat, t_test)\n",
        "accuracy"
      ],
      "id": "D-9a6XOoPMcN"
    },
    {
      "cell_type": "markdown",
      "metadata": {
        "id": "MVkw95GEQGWg"
      },
      "source": [
        "### Exercise 2.3.3. Revisit MNIST data (Online)\n",
        "\n",
        "Modify `z_model` above using the customized layer which produce the probabilities based on `torch.softmax`. Then, you may want to redefine loss function."
      ],
      "id": "MVkw95GEQGWg"
    },
    {
      "cell_type": "code",
      "execution_count": null,
      "metadata": {
        "colab": {
          "background_save": true
        },
        "id": "0ZUrGv_LH7-f"
      },
      "outputs": [],
      "source": [],
      "id": "0ZUrGv_LH7-f"
    },
    {
      "cell_type": "code",
      "source": [],
      "metadata": {
        "id": "LzTi7KtYL1oC"
      },
      "id": "LzTi7KtYL1oC",
      "execution_count": null,
      "outputs": []
    },
    {
      "cell_type": "markdown",
      "source": [
        "## Exercise 2.3.3. Iris data (Offline)"
      ],
      "metadata": {
        "id": "jL6Q41VhSDtg"
      },
      "id": "jL6Q41VhSDtg"
    },
    {
      "cell_type": "markdown",
      "source": [
        "We will be using the famous Iris dataset, which contains measurements of the sepal length, sepal width, petal length, and petal width for three species of iris flowers (Iris setosa, Iris versicolor, and Iris virginica). The goal is to predict the species of an iris flower based on these measurements."
      ],
      "metadata": {
        "id": "_dPfo6OoSXGe"
      },
      "id": "_dPfo6OoSXGe"
    },
    {
      "cell_type": "code",
      "source": [
        "from sklearn.datasets import load_iris\n",
        "from sklearn.model_selection import train_test_split\n",
        "\n",
        "# Load the Iris dataset\n",
        "iris = load_iris()\n",
        "\n",
        "# Convert the data to PyTorch tensors\n",
        "X = torch.tensor(iris.data, dtype=torch.float32)[:,:2] #iris.data의 첫 두 특성(꽃받침 길이와 너비)만 사용\n",
        "y = torch.tensor(iris.target, dtype=torch.long)\n",
        "\n",
        "t = torch.nn.functional.one_hot(torch.tensor(y, dtype=torch.int64), num_classes=3) #원핫인코딩함\n",
        "t = torch.tensor(t, dtype=torch.float32)\n",
        "\n",
        "\n",
        "# Normalize the input data\n",
        "mean = torch.mean(X, dim=0)\n",
        "std = torch.std(X, dim=0)\n",
        "X = (X - mean) / std\n",
        "\n",
        "# Split the dataset into training and validation sets\n",
        "X_train, X_val, t_train, t_val = train_test_split(X, t, test_size=0.2, random_state=42) #데이터를 80% 학습, 20% 검증으로 나눔\n",
        "\n",
        "# Create PyTorch Datasets\n",
        "train_dataset = TensorDataset(X_train, t_train)\n",
        "val_dataset = TensorDataset(X_val, t_val)\n",
        "\n",
        "# Define the data loaders\n",
        "batch_size = 16\n",
        "train_loader = DataLoader(train_dataset, batch_size=batch_size, shuffle=True) #학습용데이터\n",
        "test_loader = DataLoader(val_dataset, batch_size=batch_size, shuffle=False) #테스트용데이터\n"
      ],
      "metadata": {
        "colab": {
          "base_uri": "https://localhost:8080/"
        },
        "id": "Kyo_KXiCSHBM",
        "outputId": "1ea942fa-3185-4a02-d4de-f14ccf94aa47"
      },
      "execution_count": null,
      "outputs": [
        {
          "output_type": "stream",
          "name": "stderr",
          "text": [
            "<ipython-input-156-1472463275d6>:11: UserWarning: To copy construct from a tensor, it is recommended to use sourceTensor.clone().detach() or sourceTensor.clone().detach().requires_grad_(True), rather than torch.tensor(sourceTensor).\n",
            "  t = torch.nn.functional.one_hot(torch.tensor(y, dtype=torch.int64), num_classes=3) #원핫인코딩함\n",
            "<ipython-input-156-1472463275d6>:12: UserWarning: To copy construct from a tensor, it is recommended to use sourceTensor.clone().detach() or sourceTensor.clone().detach().requires_grad_(True), rather than torch.tensor(sourceTensor).\n",
            "  t = torch.tensor(t, dtype=torch.float32)\n"
          ]
        }
      ],
      "id": "Kyo_KXiCSHBM"
    },
    {
      "cell_type": "markdown",
      "source": [
        "Use multinomial logistic regression model to classiy the iris, and calculate the test error."
      ],
      "metadata": {
        "id": "NNktCPQ3Sf-w"
      },
      "id": "NNktCPQ3Sf-w"
    },
    {
      "cell_type": "markdown",
      "source": [
        "## Exercise 2.3.4 Revisiting Iris data (HW)\n",
        "\n",
        "We use `train_loader` to train the model, and use `test_loader` to calculate the test accuracy. Use the following code to train the model, and calculate the test accuracy. In this case, you need to define your own loss function to calculate cross-entropy function from `q_hat` and `tt`.\n",
        "```\n",
        "z_model = nn.Linear(784, 10, bias=True)\n",
        "```\n",
        "and\n",
        "```\n",
        "for xx, tt in train_loader:\n",
        "  zhat = z_model(xx)\n",
        "  q_hat = torch.softmax()\n",
        "```"
      ],
      "metadata": {
        "id": "a2wB8GZWTAtV"
      },
      "id": "a2wB8GZWTAtV"
    },
    {
      "cell_type": "code",
      "source": [
        "print(X.shape, t.shape)"
      ],
      "metadata": {
        "id": "tup21GadqJSx",
        "colab": {
          "base_uri": "https://localhost:8080/"
        },
        "outputId": "de0ce1de-2731-4546-a096-cf0bc818ed77"
      },
      "id": "tup21GadqJSx",
      "execution_count": null,
      "outputs": [
        {
          "output_type": "stream",
          "name": "stdout",
          "text": [
            "torch.Size([150, 2]) torch.Size([150, 3])\n"
          ]
        }
      ]
    },
    {
      "cell_type": "code",
      "source": [
        "forward = torch.nn.Linear(2,3,bias=True)\n",
        "\n",
        "def loss_ftn(t,q):\n",
        "  return -torch.mean(torch.sum(t*torch.log(q), axis=1))\n",
        "\n",
        "epochs= 100\n",
        "optimizer= torch.optim.SGD(forward.parameters(), lr=0.1)\n",
        "history=[]\n",
        "n_train = len(train_loader.dataset)\n",
        "\n",
        "for epoch in range(epochs):\n",
        "  Loss= 0 # define Loss for each epoch\n",
        "  for xx, t in train_loader:\n",
        "    b= forward(xx)\n",
        "    q= torch.softmax(b, axis=1)\n",
        "    loss= loss_ftn(t, q)\n",
        "    loss.backward()\n",
        "    optimizer.step()\n",
        "    optimizer.zero_grad()\n",
        "    Loss += loss.item()*len(xx) # Change LOSS to Loss to accumulate batch losses\n",
        "  history.append(Loss/n_train)\n",
        "\n",
        "  plt.plot(history)"
      ],
      "metadata": {
        "colab": {
          "base_uri": "https://localhost:8080/",
          "height": 430
        },
        "id": "yQynRUkXnSJM",
        "outputId": "c15385ab-cd79-48c2-991a-253582d98346"
      },
      "id": "yQynRUkXnSJM",
      "execution_count": null,
      "outputs": [
        {
          "output_type": "display_data",
          "data": {
            "text/plain": [
              "<Figure size 640x480 with 1 Axes>"
            ],
            "image/png": "[encoded data removed]"
          },
          "metadata": {}
        }
      ]
    },
    {
      "cell_type": "code",
      "source": [
        "Correct= 0\n",
        "n_test= len(test_loader.dataset)\n",
        "for xx,t in test_loader:\n",
        "  b= forward(xx)\n",
        "  q= torch.softmax(b, axis=1) #[n,3]\n",
        "  yhat= torch.argmax(q, axis=1)\n",
        "  y= torch.argmax(t, axis=1)\n",
        "  correct= torch.sum((yhat==y)*1.0).item()\n",
        "  Correct += correct\n",
        "\n",
        "Correct/ n_test"
      ],
      "metadata": {
        "colab": {
          "base_uri": "https://localhost:8080/"
        },
        "id": "YUcYUj-enlbD",
        "outputId": "5989b9ef-7936-46cd-eef3-75d9eb6b1b5d"
      },
      "id": "YUcYUj-enlbD",
      "execution_count": null,
      "outputs": [
        {
          "output_type": "execute_result",
          "data": {
            "text/plain": [
              "0.9"
            ]
          },
          "metadata": {},
          "execution_count": 159
        }
      ]
    },
    {
      "cell_type": "code",
      "source": [
        "#새로운데이터예측해보기\n",
        "X[:2,:2]\n",
        "xx= torch.tensor([[5.0,4.0]], dtype=torch.float32)\n",
        "xx_std= (xx-mean) / std\n",
        "xx_std\n",
        "b= forward(xx_std)\n",
        "q= torch.softmax(b, axis=1)\n",
        "q"
      ],
      "metadata": {
        "colab": {
          "base_uri": "https://localhost:8080/"
        },
        "id": "urwoTF9KnsDr",
        "outputId": "53fa0502-9c73-4b87-9d88-851a5e5123e4"
      },
      "id": "urwoTF9KnsDr",
      "execution_count": null,
      "outputs": [
        {
          "output_type": "execute_result",
          "data": {
            "text/plain": [
              "tensor([[9.9922e-01, 5.8824e-04, 1.9132e-04]], grad_fn=<SoftmaxBackward0>)"
            ]
          },
          "metadata": {},
          "execution_count": 160
        }
      ]
    },
    {
      "cell_type": "markdown",
      "metadata": {
        "id": "6MMnjhQOPR-2"
      },
      "source": [
        "## Exercise 2.3.5: Fashion MNIST data (HW)"
      ],
      "id": "6MMnjhQOPR-2"
    },
    {
      "cell_type": "markdown",
      "metadata": {
        "id": "Q0wBOhSpRP6A"
      },
      "source": [
        "You are given the following fashion MNIST data. Do the multinomial regression so that the regression machine can determine the label from the images. Calculate the test accuracy. In the test dataset, identify at least 5 cases where your predictions are wrong, and explain why possibly they were mis-classified.\n",
        "\n",
        "1. the picture\n",
        "\n",
        "2. predicted label\n",
        "\n",
        "3. real label\n",
        "\n",
        "4. Explain the possible reason why your model is wrong in this case."
      ],
      "id": "Q0wBOhSpRP6A"
    },
    {
      "cell_type": "markdown",
      "source": [
        "Hint: Each training and test example is assigned to one of the following labels:\n",
        "\n",
        "0 T-shirt/top\n",
        "\n",
        "1 Trouser\n",
        "\n",
        "2 Pullover\n",
        "\n",
        "3 Dress\n",
        "\n",
        "4 Coat\n",
        "\n",
        "5 Sandal\n",
        "\n",
        "6 Shirt\n",
        "\n",
        "7 Sneaker\n",
        "\n",
        "8 Bag\n",
        "\n",
        "9 Ankle boot"
      ],
      "metadata": {
        "id": "f0332X2pWmn0"
      },
      "id": "f0332X2pWmn0"
    },
    {
      "cell_type": "code",
      "execution_count": null,
      "metadata": {
        "id": "E-OllAGT6pr-"
      },
      "outputs": [],
      "source": [
        "import torch\n",
        "from torch import nn, optim\n",
        "import torch.nn.functional as F\n",
        "from torch.utils.data import DataLoader\n",
        "from torchvision import datasets, transforms"
      ],
      "id": "E-OllAGT6pr-"
    },
    {
      "cell_type": "code",
      "execution_count": null,
      "metadata": {
        "id": "Y2dqyxnr6psU"
      },
      "outputs": [],
      "source": [
        "# transform to normalize the data\n",
        "transform = transforms.Compose([transforms.ToTensor(),\n",
        "                                transforms.Normalize((0.5,), (0.5,))])\n",
        "\n",
        "# Download and load the training data\n",
        "trainset = datasets.FashionMNIST('./data', download=True, train=True, transform=transform)\n",
        "train_loader = DataLoader(trainset, batch_size=64, shuffle=True)\n",
        "\n",
        "# Download and load the test data\n",
        "validationset = datasets.FashionMNIST('./data', download=True, train=False, transform=transform)\n",
        "test_loader = DataLoader(validationset, batch_size=64, shuffle=True)"
      ],
      "id": "Y2dqyxnr6psU"
    },
    {
      "cell_type": "code",
      "source": [
        "xx, yy = trainset[0]"
      ],
      "metadata": {
        "id": "fH_-sM1iXlj4"
      },
      "execution_count": null,
      "outputs": [],
      "id": "fH_-sM1iXlj4"
    },
    {
      "cell_type": "code",
      "source": [
        "plt.imshow(xx.reshape(28,28))\n",
        "my_name = { 0: \"T-shirt/top\", 1: \"Trouser\",\n",
        "              2: \"Pullover\", 3: \"Dress\", 4: \"Coat\", 5: \"Sandal\", 6: \"Shirt\", 7: \"Sneaker\", 8: \"Bag\", 9: \"Ankle boot\"}\n",
        "print(my_name[yy])\n",
        "\n"
      ],
      "metadata": {
        "colab": {
          "base_uri": "https://localhost:8080/",
          "height": 447
        },
        "id": "PEu4G4HsXug4",
        "outputId": "6c1fcca8-b301-46b6-a657-c44e8c132f9b"
      },
      "execution_count": null,
      "outputs": [
        {
          "output_type": "stream",
          "name": "stdout",
          "text": [
            "Ankle boot\n"
          ]
        },
        {
          "output_type": "display_data",
          "data": {
            "text/plain": [
              "<Figure size 640x480 with 1 Axes>"
            ],
            "image/png": "[encoded data removed]"
          },
          "metadata": {}
        }
      ],
      "id": "PEu4G4HsXug4"
    },
    {
      "cell_type": "code",
      "source": [
        "z_model = nn.Linear(784, 10, bias=True)\n",
        "\n",
        "loss_fn = torch.nn.CrossEntropyLoss(reduction='mean')\n",
        "\n",
        "optimizer = torch.optim.SGD(z_model.parameters(), lr=0.01)\n",
        "\n",
        "history=[]\n",
        "epochs = 10\n",
        "\n",
        "for epoch in range(epochs):\n",
        "  epoch_loss = 0.0\n",
        "  for xx, tt in trainloader:\n",
        "    zhat = z_model(xx)\n",
        "    loss = loss_fn(zhat, tt)\n",
        "    loss.backward()\n",
        "    epoch_loss += loss.item()*len(xx)\n",
        "    optimizer.step()\n",
        "    optimizer.zero_grad()\n",
        "  history.append(epoch_loss/n)\n",
        "plt.plot(history)"
      ],
      "metadata": {
        "colab": {
          "base_uri": "https://localhost:8080/",
          "height": 447
        },
        "id": "eJakiZgQ10cQ",
        "outputId": "0aa91fd9-42dc-4ae2-d83b-1104fd47e166"
      },
      "id": "eJakiZgQ10cQ",
      "execution_count": null,
      "outputs": [
        {
          "output_type": "execute_result",
          "data": {
            "text/plain": [
              "[<matplotlib.lines.Line2D at 0x794dd7d79750>]"
            ]
          },
          "metadata": {},
          "execution_count": 165
        },
        {
          "output_type": "display_data",
          "data": {
            "text/plain": [
              "<Figure size 640x480 with 1 Axes>"
            ],
            "image/png": "[encoded data removed]"
          },
          "metadata": {}
        }
      ]
    },
    {
      "cell_type": "code",
      "source": [
        "zhat_test = z_model(x_test)\n",
        "Q_test = torch.softmax(zhat_test, axis=1)\n",
        "#y_test\n",
        "y_hat = torch.argmax(Q_test, axis=1).to(torch.float32)\n",
        "\n",
        "torch.mean((y_hat ==y_test.reshape([-1])).to(torch.float32))"
      ],
      "metadata": {
        "colab": {
          "base_uri": "https://localhost:8080/"
        },
        "id": "U2GgLift4NPb",
        "outputId": "387665cc-d7ea-48a0-82e0-928a6929dd81"
      },
      "id": "U2GgLift4NPb",
      "execution_count": null,
      "outputs": [
        {
          "output_type": "execute_result",
          "data": {
            "text/plain": [
              "tensor(0.9164)"
            ]
          },
          "metadata": {},
          "execution_count": 166
        }
      ]
    },
    {
      "cell_type": "code",
      "source": [
        "class SoftmaxModel(torch.nn.Module):\n",
        "    def __init__(self, input_units, output_units):\n",
        "        super().__init__()\n",
        "        self.linear = torch.nn.Linear(input_units, output_units, bias=True)\n",
        "\n",
        "    def forward(self, X):\n",
        "        Z = self.linear(X)\n",
        "        exp_Z = torch.exp(Z)\n",
        "        Q = exp_Z / torch.sum(exp_Z, axis=1, keepdim=True)  # Normalize over classes\n",
        "        return Q\n",
        "\n",
        "softmax_ftn = SoftmaxModel(784, num_classes)\n",
        "\n"
      ],
      "metadata": {
        "id": "GALeqHvS6Wvn"
      },
      "id": "GALeqHvS6Wvn",
      "execution_count": null,
      "outputs": []
    },
    {
      "cell_type": "code",
      "source": [
        "import matplotlib.pyplot as plt\n",
        "\n",
        "incorrect_examples = []  # [(image, predicted_label, true_label)]\n",
        "\n",
        "with torch.no_grad():\n",
        "    for xx, tt in test_loader:\n",
        "        xx = xx.view(xx.size(0), 784)  # Reshape to have 784 features\n",
        "        q = softmax_ftn(xx)  # Predict probabilities\n",
        "        yhat = torch.argmax(q, axis=1)  # Predicted labels\n",
        "\n",
        "        for i in range(len(tt)):\n",
        "            if yhat[i] != tt[i]:  # 잘못된 예측\n",
        "                incorrect_examples.append((xx[i].view(28, 28), yhat[i].item(), tt[i].item()))\n",
        "\n",
        "        # 최소 5건의 예시를 저장한 후 루프 종료\n",
        "        if len(incorrect_examples) >= 5:\n",
        "            break\n",
        "\n",
        "# 잘못된 예측 시각화\n",
        "fig, axes = plt.subplots(1, 5, figsize=(15, 5))\n",
        "for i, (image, pred_label, true_label) in enumerate(incorrect_examples[:5]):\n",
        "    axes[i].imshow(image.cpu(), cmap=\"gray\")\n",
        "    axes[i].set_title(f\"Pred: {pred_label}, True: {true_label}\")\n",
        "    axes[i].axis(\"off\")\n",
        "plt.tight_layout()\n",
        "plt.show()"
      ],
      "metadata": {
        "colab": {
          "base_uri": "https://localhost:8080/",
          "height": 341
        },
        "id": "8qS2FTM15Ghr",
        "outputId": "28f6e5fa-cebb-4613-c23d-3576e75959ba"
      },
      "id": "8qS2FTM15Ghr",
      "execution_count": null,
      "outputs": [
        {
          "output_type": "display_data",
          "data": {
            "text/plain": [
              "<Figure size 1500x500 with 5 Axes>"
            ],
            "image/png": "[encoded data removed]"
          },
          "metadata": {}
        }
      ]
    },
    {
      "cell_type": "markdown",
      "source": [
        "1) 앵클부츠를 바지로 예상:\n",
        "2) 앵클부츠을 풀오버로 예상\n",
        "3) 풀오버를 샌들로 예상\n",
        "4) 샌들을 바지로 예상\n",
        "5) 샌들을 바지로 예상\n",
        "\n",
        "모델을 개선하거나 학습을 더 많이 시키자"
      ],
      "metadata": {
        "id": "2I0RWvqY7CdS"
      },
      "id": "2I0RWvqY7CdS"
    },
    {
      "cell_type": "code",
      "source": [],
      "metadata": {
        "id": "JLsGBLMK9_yt"
      },
      "id": "JLsGBLMK9_yt",
      "execution_count": null,
      "outputs": []
    }
  ],
  "metadata": {
    "accelerator": "GPU",
    "colab": {
      "machine_shape": "hm",
      "provenance": [],
      "collapsed_sections": [
        "wr7trLZn5GhR",
        "2oxxelQr5GrR",
        "8FKvmsKmXXMJ",
        "zb0eGVOnI0ew",
        "GqyLj8otzbul",
        "a0yXFF85j67q",
        "1A3SYiYRk_vR"
      ]
    },
    "kernelspec": {
      "display_name": "Python 3",
      "name": "python3"
    },
    "language_info": {
      "name": "python"
    }
  },
  "nbformat": 4,
  "nbformat_minor": 5
}