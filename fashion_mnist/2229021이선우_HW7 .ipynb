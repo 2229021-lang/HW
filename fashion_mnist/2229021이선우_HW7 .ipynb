{
  "cells": [
    {
      "cell_type": "markdown",
      "metadata": {
        "id": "6MMnjhQOPR-2"
      },
      "source": [
        "## Exercise 2.3.5: Fashion MNIST data (HW)"
      ],
      "id": "6MMnjhQOPR-2"
    },
    {
      "cell_type": "markdown",
      "metadata": {
        "id": "Q0wBOhSpRP6A"
      },
      "source": [
        "You are given the following fashion MNIST data. Do the multinomial regression so that the regression machine can determine the label from the images. Calculate the test accuracy. In the test dataset, identify at least 5 cases where your predictions are wrong, and explain why possibly they were mis-classified.\n",
        "\n",
        "1. the picture\n",
        "\n",
        "2. predicted label\n",
        "\n",
        "3. real label\n",
        "\n",
        "4. Explain the possible reason why your model is wrong in this case."
      ],
      "id": "Q0wBOhSpRP6A"
    },
    {
      "cell_type": "markdown",
      "source": [
        "Hint: Each training and test example is assigned to one of the following labels:\n",
        "\n",
        "0 T-shirt/top\n",
        "\n",
        "1 Trouser\n",
        "\n",
        "2 Pullover\n",
        "\n",
        "3 Dress\n",
        "\n",
        "4 Coat\n",
        "\n",
        "5 Sandal\n",
        "\n",
        "6 Shirt\n",
        "\n",
        "7 Sneaker\n",
        "\n",
        "8 Bag\n",
        "\n",
        "9 Ankle boot"
      ],
      "metadata": {
        "id": "f0332X2pWmn0"
      },
      "id": "f0332X2pWmn0"
    },
    {
      "cell_type": "code",
      "execution_count": null,
      "metadata": {
        "id": "E-OllAGT6pr-"
      },
      "outputs": [],
      "source": [
        "import torch\n",
        "from torch import nn, optim\n",
        "import torch.nn.functional as F\n",
        "from torch.utils.data import DataLoader\n",
        "from torchvision import datasets, transforms"
      ],
      "id": "E-OllAGT6pr-"
    },
    {
      "cell_type": "code",
      "execution_count": null,
      "metadata": {
        "id": "Y2dqyxnr6psU"
      },
      "outputs": [],
      "source": [
        "# transform to normalize the data\n",
        "transform = transforms.Compose([transforms.ToTensor(),\n",
        "                                transforms.Normalize((0.5,), (0.5,))])\n",
        "\n",
        "# Download and load the training data\n",
        "trainset = datasets.FashionMNIST('./data', download=True, train=True, transform=transform)\n",
        "train_loader = DataLoader(trainset, batch_size=64, shuffle=True)\n",
        "\n",
        "# Download and load the test data\n",
        "validationset = datasets.FashionMNIST('./data', download=True, train=False, transform=transform)\n",
        "test_loader = DataLoader(validationset, batch_size=64, shuffle=True)"
      ],
      "id": "Y2dqyxnr6psU"
    },
    {
      "cell_type": "code",
      "source": [
        "xx, yy = trainset[0]"
      ],
      "metadata": {
        "id": "fH_-sM1iXlj4"
      },
      "execution_count": null,
      "outputs": [],
      "id": "fH_-sM1iXlj4"
    },
    {
      "cell_type": "code",
      "source": [
        "plt.imshow(xx.reshape(28,28))\n",
        "my_name = { 0: \"T-shirt/top\", 1: \"Trouser\",\n",
        "              2: \"Pullover\", 3: \"Dress\", 4: \"Coat\", 5: \"Sandal\", 6: \"Shirt\", 7: \"Sneaker\", 8: \"Bag\", 9: \"Ankle boot\"}\n",
        "print(my_name[yy])\n",
        "\n"
      ],
      "metadata": {
        "colab": {
          "base_uri": "https://localhost:8080/",
          "height": 447
        },
        "id": "PEu4G4HsXug4",
        "outputId": "6c1fcca8-b301-46b6-a657-c44e8c132f9b"
      },
      "execution_count": null,
      "outputs": [
        {
          "output_type": "stream",
          "name": "stdout",
          "text": [
            "Ankle boot\n"
          ]
        },
        {
          "output_type": "display_data",
          "data": {
            "text/plain": [
              "<Figure size 640x480 with 1 Axes>"
            ],
            "image/png": "[encoded data removed]"
          },
          "metadata": {}
        }
      ],
      "id": "PEu4G4HsXug4"
    },
    {
      "cell_type": "code",
      "source": [
        "z_model = nn.Linear(784, 10, bias=True)\n",
        "\n",
        "loss_fn = torch.nn.CrossEntropyLoss(reduction='mean')\n",
        "\n",
        "optimizer = torch.optim.SGD(z_model.parameters(), lr=0.01)\n",
        "\n",
        "history=[]\n",
        "epochs = 10\n",
        "\n",
        "for epoch in range(epochs):\n",
        "  epoch_loss = 0.0\n",
        "  for xx, tt in trainloader:\n",
        "    zhat = z_model(xx)\n",
        "    loss = loss_fn(zhat, tt)\n",
        "    loss.backward()\n",
        "    epoch_loss += loss.item()*len(xx)\n",
        "    optimizer.step()\n",
        "    optimizer.zero_grad()\n",
        "  history.append(epoch_loss/n)\n",
        "plt.plot(history)"
      ],
      "metadata": {
        "colab": {
          "base_uri": "https://localhost:8080/",
          "height": 447
        },
        "id": "eJakiZgQ10cQ",
        "outputId": "0aa91fd9-42dc-4ae2-d83b-1104fd47e166"
      },
      "id": "eJakiZgQ10cQ",
      "execution_count": null,
      "outputs": [
        {
          "output_type": "execute_result",
          "data": {
            "text/plain": [
              "[<matplotlib.lines.Line2D at 0x794dd7d79750>]"
            ]
          },
          "metadata": {},
          "execution_count": 165
        },
        {
          "output_type": "display_data",
          "data": {
            "text/plain": [
              "<Figure size 640x480 with 1 Axes>"
            ],
            "image/png": "[encoded data removed]"
          },
          "metadata": {}
        }
      ]
    },
    {
      "cell_type": "code",
      "source": [
        "zhat_test = z_model(x_test)\n",
        "Q_test = torch.softmax(zhat_test, axis=1)\n",
        "#y_test\n",
        "y_hat = torch.argmax(Q_test, axis=1).to(torch.float32)\n",
        "\n",
        "torch.mean((y_hat ==y_test.reshape([-1])).to(torch.float32))"
      ],
      "metadata": {
        "colab": {
          "base_uri": "https://localhost:8080/"
        },
        "id": "U2GgLift4NPb",
        "outputId": "387665cc-d7ea-48a0-82e0-928a6929dd81"
      },
      "id": "U2GgLift4NPb",
      "execution_count": null,
      "outputs": [
        {
          "output_type": "execute_result",
          "data": {
            "text/plain": [
              "tensor(0.9164)"
            ]
          },
          "metadata": {},
          "execution_count": 166
        }
      ]
    },
    {
      "cell_type": "code",
      "source": [
        "class SoftmaxModel(torch.nn.Module):\n",
        "    def __init__(self, input_units, output_units):\n",
        "        super().__init__()\n",
        "        self.linear = torch.nn.Linear(input_units, output_units, bias=True)\n",
        "\n",
        "    def forward(self, X):\n",
        "        Z = self.linear(X)\n",
        "        exp_Z = torch.exp(Z)\n",
        "        Q = exp_Z / torch.sum(exp_Z, axis=1, keepdim=True)  # Normalize over classes\n",
        "        return Q\n",
        "\n",
        "softmax_ftn = SoftmaxModel(784, num_classes)\n",
        "\n"
      ],
      "metadata": {
        "id": "GALeqHvS6Wvn"
      },
      "id": "GALeqHvS6Wvn",
      "execution_count": null,
      "outputs": []
    },
    {
      "cell_type": "code",
      "source": [
        "import matplotlib.pyplot as plt\n",
        "\n",
        "incorrect_examples = []  # [(image, predicted_label, true_label)]\n",
        "\n",
        "with torch.no_grad():\n",
        "    for xx, tt in test_loader:\n",
        "        xx = xx.view(xx.size(0), 784)  # Reshape to have 784 features\n",
        "        q = softmax_ftn(xx)  # Predict probabilities\n",
        "        yhat = torch.argmax(q, axis=1)  # Predicted labels\n",
        "\n",
        "        for i in range(len(tt)):\n",
        "            if yhat[i] != tt[i]:  # 잘못된 예측\n",
        "                incorrect_examples.append((xx[i].view(28, 28), yhat[i].item(), tt[i].item()))\n",
        "\n",
        "        # 최소 5건의 예시를 저장한 후 루프 종료\n",
        "        if len(incorrect_examples) >= 5:\n",
        "            break\n",
        "\n",
        "# 잘못된 예측 시각화\n",
        "fig, axes = plt.subplots(1, 5, figsize=(15, 5))\n",
        "for i, (image, pred_label, true_label) in enumerate(incorrect_examples[:5]):\n",
        "    axes[i].imshow(image.cpu(), cmap=\"gray\")\n",
        "    axes[i].set_title(f\"Pred: {pred_label}, True: {true_label}\")\n",
        "    axes[i].axis(\"off\")\n",
        "plt.tight_layout()\n",
        "plt.show()"
      ],
      "metadata": {
        "colab": {
          "base_uri": "https://localhost:8080/",
          "height": 341
        },
        "id": "8qS2FTM15Ghr",
        "outputId": "28f6e5fa-cebb-4613-c23d-3576e75959ba"
      },
      "id": "8qS2FTM15Ghr",
      "execution_count": null,
      "outputs": [
        {
          "output_type": "display_data",
          "data": {
            "text/plain": [
              "<Figure size 1500x500 with 5 Axes>"
            ],
            "image/png": "[encoded data removed]"
          },
          "metadata": {}
        }
      ]
    },
    {
      "cell_type": "markdown",
      "source": [
        "1) 앵클부츠를 바지로 예상:\n",
        "2) 앵클부츠을 풀오버로 예상\n",
        "3) 풀오버를 샌들로 예상\n",
        "4) 샌들을 바지로 예상\n",
        "5) 샌들을 바지로 예상\n",
        "\n",
        "모델을 개선하거나 학습을 더 많이 시키자"
      ],
      "metadata": {
        "id": "2I0RWvqY7CdS"
      },
      "id": "2I0RWvqY7CdS"
    },
    {
      "cell_type": "code",
      "source": [],
      "metadata": {
        "id": "JLsGBLMK9_yt"
      },
      "id": "JLsGBLMK9_yt",
      "execution_count": null,
      "outputs": []
    }
  ],
  "metadata": {
    "accelerator": "GPU",
    "colab": {
      "machine_shape": "hm",
      "provenance": [],
      "collapsed_sections": [
        "wr7trLZn5GhR",
        "2oxxelQr5GrR",
        "8FKvmsKmXXMJ",
        "zb0eGVOnI0ew",
        "GqyLj8otzbul",
        "a0yXFF85j67q",
        "1A3SYiYRk_vR"
      ]
    },
    "kernelspec": {
      "display_name": "Python 3",
      "name": "python3"
    },
    "language_info": {
      "name": "python"
    }
  },
  "nbformat": 4,
  "nbformat_minor": 5
}