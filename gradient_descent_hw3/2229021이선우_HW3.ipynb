{
  "nbformat": 4,
  "nbformat_minor": 0,
  "metadata": {
    "colab": {
      "provenance": []
    },
    "kernelspec": {
      "name": "python3",
      "display_name": "Python 3"
    },
    "language_info": {
      "name": "python"
    }
  },
  "cells": [
    {
      "cell_type": "markdown",
      "source": [
        "(과제설명영상)[https://youtu.be/s_3j87tyidM?si=LaRC4RjfuUZTEdVT]"
      ],
      "metadata": {
        "id": "aDknqSMQ3jQ-"
      }
    },
    {
      "cell_type": "markdown",
      "source": [
        "# HW: Gradient descent"
      ],
      "metadata": {
        "id": "gA2pCYaPBkf2"
      }
    },
    {
      "cell_type": "markdown",
      "source": [
        "## Problem 1:\n",
        "\n",
        "Your goal is to minimize the following loss function\n",
        "\n",
        "$\n",
        "L(\\beta_0, \\beta_1)=\n",
        "(\\beta_0-3)^2 + 2.4(\\beta_1-5)^2 + 10\n",
        "$\n",
        "\n",
        "Using the following specification, find $\\beta_0, \\beta_1$ which minimize the loss function.\n",
        "\n",
        "### Instruction:\n",
        "\n",
        "* Start with initial values $\\beta_0=7.0$ and $\\beta_1=3.0$.\n",
        "\n",
        "* Run the gradient descent algorithm for proper amount of iterations and track the loss values at each step. Plot the learning curve to see whether the learning is enoughly done."
      ],
      "metadata": {
        "id": "ZqTEkvDFBwqC"
      }
    },
    {
      "cell_type": "code",
      "source": [
        "import torch\n",
        "import numpy as np"
      ],
      "metadata": {
        "id": "xeOFrwVeLhbp"
      },
      "execution_count": null,
      "outputs": []
    },
    {
      "cell_type": "code",
      "source": [
        "def f(x):\n",
        "  temp= (x[0]-3)**2+2.4*(x[1]-5)**2+10\n",
        "  return temp\n",
        "def grad_f(x):\n",
        "    temp= torch. tensor([2*(x[0]-3), 4.8*(x[1]-5)])\n",
        "    return temp"
      ],
      "metadata": {
        "id": "-utld9kkMCk3"
      },
      "execution_count": null,
      "outputs": []
    },
    {
      "cell_type": "code",
      "source": [
        "history= []\n",
        "Ir= 0.1\n",
        "x= torch.tensor([7.0,3.0])\n",
        "print(\"x=\",x, \"  and correspopnding f(x)=\", f(x))\n",
        "history.append(f(x))\n",
        "for i in range(30) :\n",
        "  x = x - Ir * grad_f(x)\n",
        "  print(\"x=\",x, \"  and correspopnding f(x)=\", f(x))\n",
        "  history.append(f(x))\n",
        "#따라서 최소가 되는 B0과B1의 값은 3,5이다"
      ],
      "metadata": {
        "colab": {
          "base_uri": "https://localhost:8080/"
        },
        "id": "SpMxrK-UOKzc",
        "outputId": "ead048e2-b7cf-404a-8f00-da3e847606a3"
      },
      "execution_count": null,
      "outputs": [
        {
          "output_type": "stream",
          "name": "stdout",
          "text": [
            "x= tensor([7., 3.])   and correspopnding f(x)= tensor(35.6000)\n",
            "x= tensor([6.2000, 3.9600])   and correspopnding f(x)= tensor(22.8358)\n",
            "x= tensor([5.5600, 4.4592])   and correspopnding f(x)= tensor(17.2555)\n",
            "x= tensor([5.0480, 4.7188])   and correspopnding f(x)= tensor(14.3841)\n",
            "x= tensor([4.6384, 4.8538])   and correspopnding f(x)= tensor(12.7357)\n",
            "x= tensor([4.3107, 4.9240])   and correspopnding f(x)= tensor(11.7319)\n",
            "x= tensor([4.0486, 4.9605])   and correspopnding f(x)= tensor(11.1033)\n",
            "x= tensor([3.8389, 4.9794])   and correspopnding f(x)= tensor(10.7047)\n",
            "x= tensor([3.6711, 4.9893])   and correspopnding f(x)= tensor(10.4506)\n",
            "x= tensor([3.5369, 4.9944])   and correspopnding f(x)= tensor(10.2883)\n",
            "x= tensor([3.4295, 4.9971])   and correspopnding f(x)= tensor(10.1845)\n",
            "x= tensor([3.3436, 4.9985])   and correspopnding f(x)= tensor(10.1181)\n",
            "x= tensor([3.2749, 4.9992])   and correspopnding f(x)= tensor(10.0756)\n",
            "x= tensor([3.2199, 4.9996])   and correspopnding f(x)= tensor(10.0484)\n",
            "x= tensor([3.1759, 4.9998])   and correspopnding f(x)= tensor(10.0309)\n",
            "x= tensor([3.1407, 4.9999])   and correspopnding f(x)= tensor(10.0198)\n",
            "x= tensor([3.1126, 4.9999])   and correspopnding f(x)= tensor(10.0127)\n",
            "x= tensor([3.0901, 5.0000])   and correspopnding f(x)= tensor(10.0081)\n",
            "x= tensor([3.0721, 5.0000])   and correspopnding f(x)= tensor(10.0052)\n",
            "x= tensor([3.0576, 5.0000])   and correspopnding f(x)= tensor(10.0033)\n",
            "x= tensor([3.0461, 5.0000])   and correspopnding f(x)= tensor(10.0021)\n",
            "x= tensor([3.0369, 5.0000])   and correspopnding f(x)= tensor(10.0014)\n",
            "x= tensor([3.0295, 5.0000])   and correspopnding f(x)= tensor(10.0009)\n",
            "x= tensor([3.0236, 5.0000])   and correspopnding f(x)= tensor(10.0006)\n",
            "x= tensor([3.0189, 5.0000])   and correspopnding f(x)= tensor(10.0004)\n",
            "x= tensor([3.0151, 5.0000])   and correspopnding f(x)= tensor(10.0002)\n",
            "x= tensor([3.0121, 5.0000])   and correspopnding f(x)= tensor(10.0001)\n",
            "x= tensor([3.0097, 5.0000])   and correspopnding f(x)= tensor(10.0001)\n",
            "x= tensor([3.0077, 5.0000])   and correspopnding f(x)= tensor(10.0001)\n",
            "x= tensor([3.0062, 5.0000])   and correspopnding f(x)= tensor(10.0000)\n",
            "x= tensor([3.0050, 5.0000])   and correspopnding f(x)= tensor(10.0000)\n"
          ]
        }
      ]
    },
    {
      "cell_type": "code",
      "source": [
        "import matplotlib.pyplot as plt\n",
        "plt.plot(history[10:])\n",
        "#learning curve"
      ],
      "metadata": {
        "colab": {
          "base_uri": "https://localhost:8080/",
          "height": 448
        },
        "id": "EVbbKuglOvbV",
        "outputId": "a6348d1e-fedc-491b-d1df-aeba6c89926b"
      },
      "execution_count": null,
      "outputs": [
        {
          "output_type": "execute_result",
          "data": {
            "text/plain": [
              "[<matplotlib.lines.Line2D at 0x7e82bab49ae0>]"
            ]
          },
          "metadata": {},
          "execution_count": 76
        },
        {
          "output_type": "display_data",
          "data": {
            "text/plain": [
              "<Figure size 640x480 with 1 Axes>"
            ],
            "image/png": "[encoded data removed]"
          },
          "metadata": {}
        }
      ]
    },
    {
      "cell_type": "markdown",
      "source": [
        "## Problem 2:\n",
        "\n",
        "You are given a dataset with two input features\n",
        "$\n",
        "X_1$\n",
        "  and\n",
        "$X_2$​ , and an output\n",
        "$Y$. Your task is to fit a linear regression model using gradient descent to predict $Y$ based on\n",
        "$X_1$ and $X_2$.\n",
        "\n",
        "The model can be represented as:\n",
        "\n",
        "$\n",
        "Y=\\beta_0 + \\beta_1X_1 +\\beta_2 X_2.\n",
        "$\n",
        "\n",
        "The goal is to minimize the mean squared error between the predicted values $\\widehat{Y}$ and the true values $Y$.\n",
        "\n",
        "Your dataset is given by\n",
        "\n",
        "```\n",
        "X1 = torch.tensor([0.83, -0.18,  0.27,  0.32,  0.25, -0.73,  0.19, -0.08, -0.47, -0.28, -0.23,  0.25, 0.15,  0.92,  1.27, -0.50,  0.05, -0.74, -0.06,  0.70])\n",
        "X2 = torch.tensor([0.63, -1.43, -1.35,  0.70, -1.48,  0.06,  1.14,  0.96, -1.65,  0.44,  0.62,  0.47, -0.08,  1.03,  1.24, -0.54,  0.08,  0.85, -1.53,  0.66])\n",
        "Y = torch.tensor([0.50, 1.34, 1.39, 0.40, 1.20, 0.11, -0.21, -0.26, 1.18, 0.59, 0.13, 0.17, 0.55, 0.32, 0.19, 0.46, 0.32, -0.35, 1.35, 0.20])\n",
        "\n",
        "```\n",
        "\n",
        "The following is the step-by-step instruction. Complete the code."
      ],
      "metadata": {
        "id": "S9ZCPOmeC38g"
      }
    },
    {
      "cell_type": "markdown",
      "source": [
        "### Step 1: Reshape the Data\n",
        "\n",
        "* Combine $X_1$ and $X_2$ into a single tensor $X$ of shape $[n,3]$ where each row is a pair $(1, X_1[i], X_2[i])$ where we have added a column of ones to account for $\\beta_0$.\n",
        "\n",
        "```\n",
        "ones = torch.ones((**a**))\n",
        "```\n",
        "\n",
        "### Step 2: Initialize the Parameters\n",
        "\n",
        "* Define $\\beta = [\\beta_0, \\beta_1, \\beta_2]$ as a tensor with `requires_grad=True` so that PyTorch can compute gradients.\n",
        "\n",
        "* For convenience, you initialize $\\beta=[0.1, -0.035, 0.12]$.\n",
        "\n",
        "```\n",
        "beta = torch.tensor((**b**))\n",
        "```\n",
        "\n",
        "### Step 3: Define the Prediction Function\n",
        "\n",
        "* The model prediction $\\widehat{Y}$ can be computer as `X@beta`.\n",
        "\n",
        "```\n",
        "def predict(X, beta)\n",
        "   return (**c**)\n",
        "```\n",
        "\n",
        "### Step 4: Define the Loss Function\n",
        "\n",
        "* Use the Mean Squared Error (MSE) loss:\n",
        "\n",
        "$MSE = \\frac{1}{n}\\sum(Y-\\widehat{Y})^2$\n",
        "\n",
        "```\n",
        "def mse_loss(Y, Y_hat):\n",
        "   temp = torch.mean((**d**))\n",
        "   return temp\n",
        "```\n",
        "\n",
        "### Step 5: Implement Gradient Descent\n",
        "\n",
        "Set a learning rate and perform gradient descent for proper amount of iterations. At each step, compute the loss, backpropagate the gradient, and update the parameters $\\beta$.\n",
        "\n",
        "```\n",
        "# Learning rate and number of epochs\n",
        "lr = (**e**)\n",
        "epochs = (**f**)\n",
        "history = []\n",
        "\n",
        "for epoch in range(epochs):\n",
        "    beta.grad = None  # Zero the gradients\n",
        "    Y_pred = (**g**) # Compute predictions\n",
        "    loss = (**h**)  # Compute loss\n",
        "    loss.backward()  # Backpropagate\n",
        "    beta.data = (**i**)  # Update parameters\n",
        "    history.append(loss.item())  # Track loss\n",
        "```"
      ],
      "metadata": {
        "id": "nlgfFfA6D1mb"
      }
    },
    {
      "cell_type": "code",
      "source": [
        "# Step 1,x설정\n",
        "X1 = torch.tensor([0.83, -0.18,  0.27,  0.32,  0.25, -0.73,  0.19, -0.08, -0.47, -0.28, -0.23,  0.25, 0.15,  0.92,  1.27, -0.50,  0.05, -0.74, -0.06,  0.70])\n",
        "X2 = torch.tensor([0.63, -1.43, -1.35,  0.70, -1.48,  0.06,  1.14,  0.96, -1.65,  0.44,  0.62,  0.47, -0.08,  1.03,  1.24, -0.54,  0.08,  0.85, -1.53,  0.66])\n",
        "Y = torch.tensor([0.50, 1.34, 1.39, 0.40, 1.20, 0.11, -0.21, -0.26, 1.18, 0.59, 0.13, 0.17, 0.55, 0.32, 0.19, 0.46, 0.32, -0.35, 1.35, 0.20])\n",
        "\n",
        "# ones 벡터 추가 (B0을 위한 상수항)\n",
        "ones = torch.ones((X1.shape[0], 1)) #[20,1]의 1로 채운 매트릭스 생성\n",
        "\n",
        "# X1과 X2를 결합한 X 데이터 생성 (n, 3)\n",
        "X = torch.cat((ones, X1.view(-1, 1), X2.view(-1, 1)), dim=1) #[20,1] 3개를 하나로 합치기\n",
        "\n",
        "# Step 2, beta설정\n",
        "beta = torch.tensor([0.1, -0.035, 0.12], requires_grad=True)\n",
        "\n",
        "# Step 3: Y_hat 정의\n",
        "def predict(X, beta):\n",
        "    return X @ beta  # X와 beta 행렬 곱\n",
        "\n",
        "# Step 4: MSE 정의\n",
        "def mse_loss(Y, Y_hat):\n",
        "   temp = torch.mean((Y - Y_hat) ** 2)\n",
        "   return temp\n",
        "\n",
        "# Step 5: gradient desent\n",
        "\n",
        "lr = 0.01  # 학습률\n",
        "epochs = 1000  # 반복 횟수\n",
        "history = []  # 손실 추적을 위한 리스트\n",
        "\n",
        "for epoch in range(epochs):\n",
        "    beta.grad = None  # 기존 그라디언트 초기화\n",
        "    Y_pred = predict(X, beta)  # 예측 값 계산\n",
        "    loss = mse_loss(Y, Y_pred)  # 손실 값 계산\n",
        "    loss.backward()  #gradient 계산\n",
        "    beta.data = beta.data - lr * beta.grad # 파라미터 업데이트\n",
        "    history.append(loss.item())  # 손실 기록\n",
        "\n",
        "# 최종 파라미터 및 손실 출력\n",
        "print(\"최종 beta 값:\", beta)\n",
        "print(\"최종 손실 값:\", loss.item())\n",
        "\n"
      ],
      "metadata": {
        "colab": {
          "base_uri": "https://localhost:8080/"
        },
        "id": "yiZ2LWTrQgWE",
        "outputId": "c5b2a4ae-1f94-4a58-9417-47cbf5584533"
      },
      "execution_count": null,
      "outputs": [
        {
          "output_type": "stream",
          "name": "stdout",
          "text": [
            "최종 beta 값: tensor([ 0.4678,  0.3534, -0.5553], requires_grad=True)\n",
            "최종 손실 값: 0.0235151257365942\n"
          ]
        }
      ]
    },
    {
      "cell_type": "markdown",
      "source": [
        "## Problem 3:\n",
        "\n",
        "You are given the cubic equation:\n",
        "\n",
        "$x^3-6x^2+11x-6=0$.\n",
        "\n",
        "Use gradient descent to find all the real solutions to this equation.\n",
        "\n",
        "### Hint:\n",
        "\n",
        "* It might be helpful to draw the graph of\n",
        "$y=x^3-6x^2+11x-6$."
      ],
      "metadata": {
        "id": "FvUbsDo9IMl6"
      }
    },
    {
      "cell_type": "code",
      "source": [
        "def f(x):\n",
        "    return x**3 - 6*x**2 + 11*x - 6\n",
        "\n",
        "def grad_f(x):\n",
        "    return torch.autograd.grad(f(x), x)[0]\n",
        "\n",
        "def gradient_descent(starting_point, lr=0.01, epochs=1000):\n",
        "    x = torch.tensor([starting_point], requires_grad=True)  # 초기값 설정\n",
        "\n",
        "    for epoch in range(epochs):\n",
        "        x.grad= None  # 그라디언트 초기화\n",
        "        loss = f(x)**2  # 손실 함수 계산\n",
        "        loss.backward()  # 그라디언트 계산\n",
        "        x.data = x.data - lr * x.grad # 파라미터 업데이트\n",
        "\n",
        "\n",
        "    return x.item()  # 최종 근 반환\n",
        "\n",
        "initial_points = [-1.0, 2.0, 4.0]  # 근을 찾기 위한 여러 초기값\n",
        "solutions = []\n",
        "\n",
        "for point in initial_points:\n",
        "    solution = gradient_descent(point, lr=0.01, epochs=1000)\n",
        "    solutions.append(solution)\n",
        "\n",
        "\n",
        "print(solutions)\n",
        "\n",
        "#그래프 그리기\n",
        "x_vals = torch.linspace(-1, 4, 100)\n",
        "y_vals = f(x_vals)\n",
        "\n",
        "plt.plot(x_vals.detach().numpy(), y_vals.detach().numpy())\n",
        "plt.axhline(0, color='black')\n",
        "plt.scatter(solutions, [0, 0, 0], color='red', label=\"Solutions\")\n",
        "plt.show()\n"
      ],
      "metadata": {
        "colab": {
          "base_uri": "https://localhost:8080/",
          "height": 448
        },
        "id": "TQhXWD8DoUil",
        "outputId": "e94cc57d-75e0-4ce0-f792-1703353ab418"
      },
      "execution_count": null,
      "outputs": [
        {
          "output_type": "stream",
          "name": "stdout",
          "text": [
            "[nan, 2.0, 2.9999985694885254]\n"
          ]
        },
        {
          "output_type": "display_data",
          "data": {
            "text/plain": [
              "<Figure size 640x480 with 1 Axes>"
            ],
            "image/png": "[encoded data removed]"
          },
          "metadata": {}
        }
      ]
    },
    {
      "cell_type": "markdown",
      "source": [
        "## Problem 4:\n",
        "\n",
        "You are given\n",
        "$X \\sim {\\rm Gamma}({\\rm shape}=2.0, {\\rm rate}=1.3)   $.\n",
        "\n",
        "Answer the following questions.\n",
        "\n",
        "1. Find $x_0=\\widehat{x}_0$ such that $P(X<x_0)=0.95$. Note that $x_0$ is called as the 95-th quantile of ${\\rm Gamma}({\\rm shape}=2.0, {\\rm rate}=1.3)$.\n",
        "\n",
        "2. Confirm that your answer in part 1 is correct by calculating\n",
        "$P(X<\\widehat{x}_0)$.\n",
        "\n",
        "3. Calculate $E[X^3]$ by simulating 10000 samples of $X$.\n",
        "\n",
        "### Hint 1:\n",
        "\n",
        "You may use the following loss function\n",
        "\n",
        "$L(x_0) = \\left(P(X<x_0)-0.95\\right)^2$."
      ],
      "metadata": {
        "id": "0QrvQS1ABfOw"
      }
    },
    {
      "cell_type": "markdown",
      "metadata": {
        "id": "9b265957"
      },
      "source": [
        "### Hint 2:\n",
        "\n",
        "You may use\n",
        "`torch.distributions.Gamma` in PyTorch to solve the problem.\n",
        "In this hint, we explore how to use `torch.distributions.Gamma` in PyTorch to:\n",
        "1. Define a Gamma distribution.\n",
        "2. Compute the Cumulative Distribution Function (CDF) for a given value.\n",
        "3. Simulate random samples from the Gamma distribution.\n"
      ]
    },
    {
      "cell_type": "markdown",
      "metadata": {
        "id": "177c024c"
      },
      "source": [
        "\n",
        "## Step 1: Defining a Gamma Distribution\n",
        "\n",
        "The Gamma distribution is defined by two parameters: **shape** and **rate** (which is the inverse of the scale). You can define a Gamma distribution using `torch.distributions.Gamma`.\n",
        "\n",
        "Let's create a Gamma distribution with `shape = 2.0` and `rate = 1.3`:\n"
      ]
    },
    {
      "cell_type": "code",
      "execution_count": null,
      "metadata": {
        "id": "ba219d50",
        "colab": {
          "base_uri": "https://localhost:8080/"
        },
        "outputId": "2e2c4860-8729-4d3a-b85d-925f96ceec5a"
      },
      "outputs": [
        {
          "output_type": "stream",
          "name": "stdout",
          "text": [
            "Gamma(concentration: tensor([2.]), rate: tensor([0.7692]))\n"
          ]
        }
      ],
      "source": [
        "\n",
        "import torch\n",
        "\n",
        "# Define the parameters for the Gamma distribution\n",
        "shape = 2.0\n",
        "rate = 1.3\n",
        "\n",
        "# Create a Gamma distribution object\n",
        "gamma_dist = torch.distributions.Gamma(torch.tensor([shape]), torch.tensor([1/rate]))\n",
        "\n",
        "# Print the Gamma distribution\n",
        "print(gamma_dist)\n"
      ]
    },
    {
      "cell_type": "markdown",
      "metadata": {
        "id": "41cd3911"
      },
      "source": [
        "\n",
        "## Step 2: Calculating the CDF\n",
        "\n",
        "The **Cumulative Distribution Function (CDF)** gives the probability that a random variable is less than or equal to a certain value. In PyTorch, you can calculate the CDF of the Gamma distribution using the `cdf()` method.\n",
        "\n",
        "Let's calculate the CDF of the Gamma distribution at `θ_0 = 2.0`:\n"
      ]
    },
    {
      "cell_type": "code",
      "execution_count": null,
      "metadata": {
        "id": "491d9462",
        "colab": {
          "base_uri": "https://localhost:8080/"
        },
        "outputId": "e4bbed09-cd06-458d-81c7-13e0d3cd59f2"
      },
      "outputs": [
        {
          "output_type": "stream",
          "name": "stdout",
          "text": [
            "CDF at theta_0 = 2.0: 0.45496392250061035\n"
          ]
        }
      ],
      "source": [
        "\n",
        "# Define the value at which to compute the CDF\n",
        "theta_0 = torch.tensor([2.0])\n",
        "\n",
        "# Calculate the CDF of the Gamma distribution at theta_0\n",
        "cdf_value = gamma_dist.cdf(theta_0)\n",
        "\n",
        "# Print the result\n",
        "print(f\"CDF at theta_0 = 2.0: {cdf_value.item()}\")\n"
      ]
    },
    {
      "cell_type": "markdown",
      "metadata": {
        "id": "b9089da3"
      },
      "source": [
        "\n",
        "## Step 3: Simulating Random Samples\n",
        "\n",
        "You can generate random samples from the Gamma distribution using the `sample()` method. This is useful for simulations or drawing values from the distribution.\n",
        "\n",
        "Let's simulate 5 random samples from the Gamma distribution:\n"
      ]
    },
    {
      "cell_type": "code",
      "execution_count": null,
      "metadata": {
        "id": "d0d7fa08",
        "colab": {
          "base_uri": "https://localhost:8080/"
        },
        "outputId": "a5459589-a24a-480c-adb0-180f93d86dc5"
      },
      "outputs": [
        {
          "output_type": "stream",
          "name": "stdout",
          "text": [
            "Random samples: tensor([[3.2233],\n",
            "        [1.0501],\n",
            "        [3.2055],\n",
            "        [3.8678],\n",
            "        [3.1084]])\n"
          ]
        }
      ],
      "source": [
        "\n",
        "# Generate 5 random samples from the Gamma distribution\n",
        "samples = gamma_dist.sample((5,))\n",
        "\n",
        "# Print the samples\n",
        "print(f\"Random samples: {samples}\")\n"
      ]
    },
    {
      "cell_type": "code",
      "source": [
        "import torch\n",
        "import scipy.stats as stats #cdf의 역함수는 ppf의 라이브러리 설치\n",
        "\n",
        "#1\n",
        "#감마 분포 이용\n",
        "shape = 2.0\n",
        "rate = 1.3  # 감마 분포에서 rate는 scale의 역수\n",
        "scale = 1.0 / rate\n",
        "gamma_dist = torch.distributions.Gamma(concentration=shape, rate=rate)\n",
        "\n",
        "#95번째 분위수 (x_0) 계산\n",
        "x0 = stats.gamma.ppf(0.95, a=shape, scale=scale) #x0을 찾는 것이기 때문에 역함수를 써야함\n",
        "print(x0)\n",
        "\n",
        "#2\n",
        "#CDF를 이용해 P(X < x_0) 계산 확인\n",
        "theta_0 = x0\n",
        "P_theta_0 = gamma_dist.cdf(torch.tensor(theta_0)) #cdf를 이용해 확률 찾기\n",
        "print(P_theta_0)\n",
        "\n",
        "#3\n",
        "#10,000개의 샘플을 생성하고 E[X^3] 계산\n",
        "samples = gamma_dist.sample((10000,)) #샘플 1000개 생성\n",
        "E_X3 = torch.mean(samples**3)\n",
        "print(E_X3)\n",
        "\n"
      ],
      "metadata": {
        "colab": {
          "base_uri": "https://localhost:8080/"
        },
        "id": "952XOzRRripg",
        "outputId": "6e4af7e8-0305-4d1a-a33e-7a593a45ed0c"
      },
      "execution_count": null,
      "outputs": [
        {
          "output_type": "stream",
          "name": "stdout",
          "text": [
            "3.649126552608136\n",
            "tensor(0.9500, dtype=torch.float64)\n",
            "tensor(10.6460)\n"
          ]
        }
      ]
    },
    {
      "cell_type": "markdown",
      "source": [
        "## Problem 5:\n",
        "\n",
        "You are given\n",
        "$X \\sim {\\rm Exp}({\\rm mean}=2.0)   $.\n",
        "\n",
        "Answer the following questions.\n",
        "\n",
        "1. Find $x_0=\\widehat{x}_0$ such that $P(X<x_0)=0.90$.\n",
        "\n",
        "2. Confirm that your answer in part 1 is correct by calculating\n",
        "$P(X<\\widehat{x}_0)$.\n",
        "\n",
        "3. Calculate $E[X]$ by simulating 10000 samples of $X$.\n"
      ],
      "metadata": {
        "id": "rKJW15m6OCxu"
      }
    },
    {
      "cell_type": "code",
      "source": [
        "import torch\n",
        "\n",
        "#1\n",
        "#지수 분포 정의\n",
        "mean = 2.0\n",
        "rate = 1.0 / mean  # rate는 1 / mean\n",
        "exp_dist = torch.distributions.Exponential(rate)\n",
        "\n",
        "#90번째 분위수 (x_0) 계산\n",
        "x0 = exp_dist.icdf(torch.tensor(0.90)) #분위수를 구하는 것이기 때문에 icdf사용\n",
        "print(x0)\n",
        "\n",
        "#2\n",
        "#CDF를 이용해 P(X < x_0) 계산 확인\n",
        "P_x0 = exp_dist.cdf(x0)\n",
        "print(P_x0)\n",
        "\n",
        "#3\n",
        "#10,000개의 샘플을 생성하고 E[X] 계산\n",
        "samples = exp_dist.sample((10000,))\n",
        "E_X = torch.mean(samples)\n",
        "print(E_X)\n",
        "\n"
      ],
      "metadata": {
        "id": "c1fxnIInNKhF",
        "colab": {
          "base_uri": "https://localhost:8080/"
        },
        "outputId": "6c95fa7f-ad59-4534-8355-f8499dc4c4ba"
      },
      "execution_count": null,
      "outputs": [
        {
          "output_type": "stream",
          "name": "stdout",
          "text": [
            "tensor(4.6052)\n",
            "tensor(0.9000)\n",
            "tensor(2.0125)\n"
          ]
        }
      ]
    }
  ]
}